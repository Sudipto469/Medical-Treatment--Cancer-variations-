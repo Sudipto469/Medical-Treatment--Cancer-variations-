{
 "cells": [
  {
   "cell_type": "code",
   "execution_count": 450,
   "id": "237ce281",
   "metadata": {},
   "outputs": [],
   "source": [
    "import pandas as pd \n",
    "from nltk.corpus import stopwords\n",
    "import nltk\n",
    "import re\n",
    "import numpy as np\n",
    "from collections import defaultdict\n",
    "from sklearn.model_selection import train_test_split\n",
    "from sklearn.metrics.classification import accuracy_score, log_loss\n",
    "from sklearn.metrics import confusion_matrix\n",
    "import matplotlib.pyplot as plt\n",
    "import seaborn as sns\n",
    "from sklearn.feature_extraction.text import CountVectorizer\n",
    "from sklearn.linear_model import SGDClassifier\n",
    "from sklearn.calibration import CalibratedClassifierCV\n",
    "from sklearn.preprocessing import normalize\n",
    "from collections import Counter\n",
    "from scipy.sparse import hstack\n",
    "from sklearn.naive_bayes import MultinomialNB"
   ]
  },
  {
   "cell_type": "code",
   "execution_count": 223,
   "id": "bfc5e72b",
   "metadata": {},
   "outputs": [],
   "source": [
    "#nltk.download('stopwords')"
   ]
  },
  {
   "cell_type": "code",
   "execution_count": 224,
   "id": "8a0b37e7",
   "metadata": {},
   "outputs": [],
   "source": [
    "variants = pd.read_csv(\"training_variants\")"
   ]
  },
  {
   "cell_type": "code",
   "execution_count": 225,
   "id": "81cb506c",
   "metadata": {},
   "outputs": [
    {
     "data": {
      "text/html": [
       "<div>\n",
       "<style scoped>\n",
       "    .dataframe tbody tr th:only-of-type {\n",
       "        vertical-align: middle;\n",
       "    }\n",
       "\n",
       "    .dataframe tbody tr th {\n",
       "        vertical-align: top;\n",
       "    }\n",
       "\n",
       "    .dataframe thead th {\n",
       "        text-align: right;\n",
       "    }\n",
       "</style>\n",
       "<table border=\"1\" class=\"dataframe\">\n",
       "  <thead>\n",
       "    <tr style=\"text-align: right;\">\n",
       "      <th></th>\n",
       "      <th>ID</th>\n",
       "      <th>Gene</th>\n",
       "      <th>Variation</th>\n",
       "      <th>Class</th>\n",
       "    </tr>\n",
       "  </thead>\n",
       "  <tbody>\n",
       "    <tr>\n",
       "      <th>0</th>\n",
       "      <td>0</td>\n",
       "      <td>FAM58A</td>\n",
       "      <td>Truncating Mutations</td>\n",
       "      <td>1</td>\n",
       "    </tr>\n",
       "    <tr>\n",
       "      <th>1</th>\n",
       "      <td>1</td>\n",
       "      <td>CBL</td>\n",
       "      <td>W802*</td>\n",
       "      <td>2</td>\n",
       "    </tr>\n",
       "    <tr>\n",
       "      <th>2</th>\n",
       "      <td>2</td>\n",
       "      <td>CBL</td>\n",
       "      <td>Q249E</td>\n",
       "      <td>2</td>\n",
       "    </tr>\n",
       "    <tr>\n",
       "      <th>3</th>\n",
       "      <td>3</td>\n",
       "      <td>CBL</td>\n",
       "      <td>N454D</td>\n",
       "      <td>3</td>\n",
       "    </tr>\n",
       "    <tr>\n",
       "      <th>4</th>\n",
       "      <td>4</td>\n",
       "      <td>CBL</td>\n",
       "      <td>L399V</td>\n",
       "      <td>4</td>\n",
       "    </tr>\n",
       "  </tbody>\n",
       "</table>\n",
       "</div>"
      ],
      "text/plain": [
       "   ID    Gene             Variation  Class\n",
       "0   0  FAM58A  Truncating Mutations      1\n",
       "1   1     CBL                 W802*      2\n",
       "2   2     CBL                 Q249E      2\n",
       "3   3     CBL                 N454D      3\n",
       "4   4     CBL                 L399V      4"
      ]
     },
     "execution_count": 225,
     "metadata": {},
     "output_type": "execute_result"
    }
   ],
   "source": [
    "variants.head(5)"
   ]
  },
  {
   "cell_type": "code",
   "execution_count": 226,
   "id": "042781f5",
   "metadata": {},
   "outputs": [
    {
     "data": {
      "text/plain": [
       "array([1, 2, 3, 4, 5, 6, 7, 8, 9], dtype=int64)"
      ]
     },
     "execution_count": 226,
     "metadata": {},
     "output_type": "execute_result"
    }
   ],
   "source": [
    "variants[\"Class\"].unique()"
   ]
  },
  {
   "cell_type": "code",
   "execution_count": 227,
   "id": "42b437c9",
   "metadata": {},
   "outputs": [
    {
     "name": "stdout",
     "output_type": "stream",
     "text": [
      "<class 'pandas.core.frame.DataFrame'>\n",
      "RangeIndex: 3321 entries, 0 to 3320\n",
      "Data columns (total 4 columns):\n",
      "ID           3321 non-null int64\n",
      "Gene         3321 non-null object\n",
      "Variation    3321 non-null object\n",
      "Class        3321 non-null int64\n",
      "dtypes: int64(2), object(2)\n",
      "memory usage: 103.9+ KB\n"
     ]
    }
   ],
   "source": [
    "variants.info()"
   ]
  },
  {
   "cell_type": "code",
   "execution_count": 228,
   "id": "fa3113cb",
   "metadata": {},
   "outputs": [
    {
     "data": {
      "text/plain": [
       "BRCA1     264\n",
       "TP53      163\n",
       "EGFR      141\n",
       "PTEN      126\n",
       "BRCA2     125\n",
       "         ... \n",
       "RRAS2       1\n",
       "JUN         1\n",
       "SHQ1        1\n",
       "INPP4B      1\n",
       "PAX8        1\n",
       "Name: Gene, Length: 264, dtype: int64"
      ]
     },
     "execution_count": 228,
     "metadata": {},
     "output_type": "execute_result"
    }
   ],
   "source": [
    "# The value_counts() function is used to get a Series containing counts of unique values\n",
    "variants[\"Gene\"].value_counts()"
   ]
  },
  {
   "cell_type": "code",
   "execution_count": 229,
   "id": "365a94af",
   "metadata": {},
   "outputs": [],
   "source": [
    "#data_text =pd.read_csv(\"training_text\",sep=\"\\|\\|\",engine=\"python\",names=[\"ID\",\"TEXT\"],skiprows=1)"
   ]
  },
  {
   "cell_type": "code",
   "execution_count": 230,
   "id": "659944ab",
   "metadata": {},
   "outputs": [
    {
     "name": "stderr",
     "output_type": "stream",
     "text": [
      "<ipython-input-230-6e386e1ad195>:1: ParserWarning: Falling back to the 'python' engine because the 'c' engine does not support regex separators (separators > 1 char and different from '\\s+' are interpreted as regex); you can avoid this warning by specifying engine='python'.\n",
      "  data_text =pd.read_csv(\"training_text\",sep=\"\\|\\|\",names=[\"ID\",\"TEXT\"],skiprows=1)\n"
     ]
    }
   ],
   "source": [
    "data_text =pd.read_csv(\"training_text\",sep=\"\\|\\|\",names=[\"ID\",\"TEXT\"],skiprows=1)"
   ]
  },
  {
   "cell_type": "code",
   "execution_count": 231,
   "id": "4c639d58",
   "metadata": {},
   "outputs": [
    {
     "data": {
      "text/html": [
       "<div>\n",
       "<style scoped>\n",
       "    .dataframe tbody tr th:only-of-type {\n",
       "        vertical-align: middle;\n",
       "    }\n",
       "\n",
       "    .dataframe tbody tr th {\n",
       "        vertical-align: top;\n",
       "    }\n",
       "\n",
       "    .dataframe thead th {\n",
       "        text-align: right;\n",
       "    }\n",
       "</style>\n",
       "<table border=\"1\" class=\"dataframe\">\n",
       "  <thead>\n",
       "    <tr style=\"text-align: right;\">\n",
       "      <th></th>\n",
       "      <th>ID</th>\n",
       "      <th>TEXT</th>\n",
       "    </tr>\n",
       "  </thead>\n",
       "  <tbody>\n",
       "    <tr>\n",
       "      <th>0</th>\n",
       "      <td>0</td>\n",
       "      <td>Cyclin-dependent kinases (CDKs) regulate a var...</td>\n",
       "    </tr>\n",
       "    <tr>\n",
       "      <th>1</th>\n",
       "      <td>1</td>\n",
       "      <td>Abstract Background  Non-small cell lung canc...</td>\n",
       "    </tr>\n",
       "    <tr>\n",
       "      <th>2</th>\n",
       "      <td>2</td>\n",
       "      <td>Abstract Background  Non-small cell lung canc...</td>\n",
       "    </tr>\n",
       "    <tr>\n",
       "      <th>3</th>\n",
       "      <td>3</td>\n",
       "      <td>Recent evidence has demonstrated that acquired...</td>\n",
       "    </tr>\n",
       "    <tr>\n",
       "      <th>4</th>\n",
       "      <td>4</td>\n",
       "      <td>Oncogenic mutations in the monomeric Casitas B...</td>\n",
       "    </tr>\n",
       "  </tbody>\n",
       "</table>\n",
       "</div>"
      ],
      "text/plain": [
       "   ID                                               TEXT\n",
       "0   0  Cyclin-dependent kinases (CDKs) regulate a var...\n",
       "1   1   Abstract Background  Non-small cell lung canc...\n",
       "2   2   Abstract Background  Non-small cell lung canc...\n",
       "3   3  Recent evidence has demonstrated that acquired...\n",
       "4   4  Oncogenic mutations in the monomeric Casitas B..."
      ]
     },
     "execution_count": 231,
     "metadata": {},
     "output_type": "execute_result"
    }
   ],
   "source": [
    "data_text.head(5)"
   ]
  },
  {
   "cell_type": "code",
   "execution_count": 232,
   "id": "85818337",
   "metadata": {},
   "outputs": [
    {
     "name": "stdout",
     "output_type": "stream",
     "text": [
      "<class 'pandas.core.frame.DataFrame'>\n",
      "RangeIndex: 3321 entries, 0 to 3320\n",
      "Data columns (total 2 columns):\n",
      "ID      3321 non-null int64\n",
      "TEXT    3316 non-null object\n",
      "dtypes: int64(1), object(1)\n",
      "memory usage: 52.0+ KB\n"
     ]
    }
   ],
   "source": [
    "data_text.info()"
   ]
  },
  {
   "cell_type": "code",
   "execution_count": 233,
   "id": "1c5c8348",
   "metadata": {},
   "outputs": [],
   "source": [
    "stop_words = set(stopwords.words('english'))"
   ]
  },
  {
   "cell_type": "code",
   "execution_count": 234,
   "id": "8b3fc306",
   "metadata": {},
   "outputs": [],
   "source": [
    "def data_text_preprocess(total_text, ind, col):\n",
    "    # Remove int values from text data as that might not be imp\n",
    "    if type(total_text) is not int:\n",
    "        string = \"\"\n",
    "        # replacing all special char with space\n",
    "        total_text = re.sub('[^a-zA-Z0-9\\n]', ' ', str(total_text))\n",
    "        # replacing multiple spaces with single space\n",
    "        total_text = re.sub('\\s+',' ', str(total_text))\n",
    "        # bring whole text to same lower-case scale.\n",
    "        total_text = total_text.lower()\n",
    "        \n",
    "        for word in total_text.split():\n",
    "        # if the word is a not a stop word then retain that word from text\n",
    "            if not word in stop_words:\n",
    "                string += word + \" \"\n",
    "        \n",
    "        data_text[col][ind] = string"
   ]
  },
  {
   "cell_type": "code",
   "execution_count": 235,
   "id": "7eda6ea0",
   "metadata": {},
   "outputs": [
    {
     "name": "stderr",
     "output_type": "stream",
     "text": [
      "<ipython-input-234-677b2ace2022>:17: SettingWithCopyWarning: \n",
      "A value is trying to be set on a copy of a slice from a DataFrame\n",
      "\n",
      "See the caveats in the documentation: http://pandas.pydata.org/pandas-docs/stable/user_guide/indexing.html#returning-a-view-versus-a-copy\n",
      "  data_text[col][ind] = string\n"
     ]
    }
   ],
   "source": [
    "# Below code will take some time because its huge text (took 4 minute on my 16 GB RAM system), so run it and have a cup of coffee :)\n",
    "for index, row in data_text.iterrows():\n",
    "    if type(row['TEXT']) is str:\n",
    "        data_text_preprocess(row['TEXT'], index, 'TEXT')"
   ]
  },
  {
   "cell_type": "code",
   "execution_count": 236,
   "id": "129f203b",
   "metadata": {},
   "outputs": [
    {
     "data": {
      "text/html": [
       "<div>\n",
       "<style scoped>\n",
       "    .dataframe tbody tr th:only-of-type {\n",
       "        vertical-align: middle;\n",
       "    }\n",
       "\n",
       "    .dataframe tbody tr th {\n",
       "        vertical-align: top;\n",
       "    }\n",
       "\n",
       "    .dataframe thead th {\n",
       "        text-align: right;\n",
       "    }\n",
       "</style>\n",
       "<table border=\"1\" class=\"dataframe\">\n",
       "  <thead>\n",
       "    <tr style=\"text-align: right;\">\n",
       "      <th></th>\n",
       "      <th>ID</th>\n",
       "      <th>TEXT</th>\n",
       "    </tr>\n",
       "  </thead>\n",
       "  <tbody>\n",
       "    <tr>\n",
       "      <th>0</th>\n",
       "      <td>0</td>\n",
       "      <td>cyclin dependent kinases cdks regulate variety...</td>\n",
       "    </tr>\n",
       "    <tr>\n",
       "      <th>1</th>\n",
       "      <td>1</td>\n",
       "      <td>abstract background non small cell lung cancer...</td>\n",
       "    </tr>\n",
       "    <tr>\n",
       "      <th>2</th>\n",
       "      <td>2</td>\n",
       "      <td>abstract background non small cell lung cancer...</td>\n",
       "    </tr>\n",
       "    <tr>\n",
       "      <th>3</th>\n",
       "      <td>3</td>\n",
       "      <td>recent evidence demonstrated acquired uniparen...</td>\n",
       "    </tr>\n",
       "    <tr>\n",
       "      <th>4</th>\n",
       "      <td>4</td>\n",
       "      <td>oncogenic mutations monomeric casitas b lineag...</td>\n",
       "    </tr>\n",
       "  </tbody>\n",
       "</table>\n",
       "</div>"
      ],
      "text/plain": [
       "   ID                                               TEXT\n",
       "0   0  cyclin dependent kinases cdks regulate variety...\n",
       "1   1  abstract background non small cell lung cancer...\n",
       "2   2  abstract background non small cell lung cancer...\n",
       "3   3  recent evidence demonstrated acquired uniparen...\n",
       "4   4  oncogenic mutations monomeric casitas b lineag..."
      ]
     },
     "execution_count": 236,
     "metadata": {},
     "output_type": "execute_result"
    }
   ],
   "source": [
    "data_text.head()"
   ]
  },
  {
   "cell_type": "markdown",
   "id": "ae9cb3aa",
   "metadata": {},
   "source": [
    "* data_text [col] [index]\n",
    "* data_text [\"TEXT\"] [0] : this way can access row 0 of column TEXT"
   ]
  },
  {
   "cell_type": "markdown",
   "id": "8e8080da",
   "metadata": {},
   "source": [
    "# merge the two dataset "
   ]
  },
  {
   "cell_type": "code",
   "execution_count": 237,
   "id": "acae52a4",
   "metadata": {},
   "outputs": [
    {
     "data": {
      "text/html": [
       "<div>\n",
       "<style scoped>\n",
       "    .dataframe tbody tr th:only-of-type {\n",
       "        vertical-align: middle;\n",
       "    }\n",
       "\n",
       "    .dataframe tbody tr th {\n",
       "        vertical-align: top;\n",
       "    }\n",
       "\n",
       "    .dataframe thead th {\n",
       "        text-align: right;\n",
       "    }\n",
       "</style>\n",
       "<table border=\"1\" class=\"dataframe\">\n",
       "  <thead>\n",
       "    <tr style=\"text-align: right;\">\n",
       "      <th></th>\n",
       "      <th>ID</th>\n",
       "      <th>Gene</th>\n",
       "      <th>Variation</th>\n",
       "      <th>Class</th>\n",
       "      <th>TEXT</th>\n",
       "    </tr>\n",
       "  </thead>\n",
       "  <tbody>\n",
       "    <tr>\n",
       "      <th>0</th>\n",
       "      <td>0</td>\n",
       "      <td>FAM58A</td>\n",
       "      <td>Truncating Mutations</td>\n",
       "      <td>1</td>\n",
       "      <td>cyclin dependent kinases cdks regulate variety...</td>\n",
       "    </tr>\n",
       "    <tr>\n",
       "      <th>1</th>\n",
       "      <td>1</td>\n",
       "      <td>CBL</td>\n",
       "      <td>W802*</td>\n",
       "      <td>2</td>\n",
       "      <td>abstract background non small cell lung cancer...</td>\n",
       "    </tr>\n",
       "    <tr>\n",
       "      <th>2</th>\n",
       "      <td>2</td>\n",
       "      <td>CBL</td>\n",
       "      <td>Q249E</td>\n",
       "      <td>2</td>\n",
       "      <td>abstract background non small cell lung cancer...</td>\n",
       "    </tr>\n",
       "    <tr>\n",
       "      <th>3</th>\n",
       "      <td>3</td>\n",
       "      <td>CBL</td>\n",
       "      <td>N454D</td>\n",
       "      <td>3</td>\n",
       "      <td>recent evidence demonstrated acquired uniparen...</td>\n",
       "    </tr>\n",
       "    <tr>\n",
       "      <th>4</th>\n",
       "      <td>4</td>\n",
       "      <td>CBL</td>\n",
       "      <td>L399V</td>\n",
       "      <td>4</td>\n",
       "      <td>oncogenic mutations monomeric casitas b lineag...</td>\n",
       "    </tr>\n",
       "  </tbody>\n",
       "</table>\n",
       "</div>"
      ],
      "text/plain": [
       "   ID    Gene  ... Class                                               TEXT\n",
       "0   0  FAM58A  ...     1  cyclin dependent kinases cdks regulate variety...\n",
       "1   1     CBL  ...     2  abstract background non small cell lung cancer...\n",
       "2   2     CBL  ...     2  abstract background non small cell lung cancer...\n",
       "3   3     CBL  ...     3  recent evidence demonstrated acquired uniparen...\n",
       "4   4     CBL  ...     4  oncogenic mutations monomeric casitas b lineag...\n",
       "\n",
       "[5 rows x 5 columns]"
      ]
     },
     "execution_count": 237,
     "metadata": {},
     "output_type": "execute_result"
    }
   ],
   "source": [
    "#merging both gene_variations and text data based on ID\n",
    "result = pd.merge(variants, data_text,on='ID', how='left')\n",
    "result.head()"
   ]
  },
  {
   "cell_type": "code",
   "execution_count": 238,
   "id": "afd4908d",
   "metadata": {},
   "outputs": [
    {
     "data": {
      "text/html": [
       "<div>\n",
       "<style scoped>\n",
       "    .dataframe tbody tr th:only-of-type {\n",
       "        vertical-align: middle;\n",
       "    }\n",
       "\n",
       "    .dataframe tbody tr th {\n",
       "        vertical-align: top;\n",
       "    }\n",
       "\n",
       "    .dataframe thead th {\n",
       "        text-align: right;\n",
       "    }\n",
       "</style>\n",
       "<table border=\"1\" class=\"dataframe\">\n",
       "  <thead>\n",
       "    <tr style=\"text-align: right;\">\n",
       "      <th></th>\n",
       "      <th>ID</th>\n",
       "      <th>Gene</th>\n",
       "      <th>Variation</th>\n",
       "      <th>Class</th>\n",
       "      <th>TEXT</th>\n",
       "    </tr>\n",
       "  </thead>\n",
       "  <tbody>\n",
       "    <tr>\n",
       "      <th>1109</th>\n",
       "      <td>1109.0</td>\n",
       "      <td>FANCA</td>\n",
       "      <td>S1088F</td>\n",
       "      <td>1.0</td>\n",
       "      <td>NaN</td>\n",
       "    </tr>\n",
       "    <tr>\n",
       "      <th>1277</th>\n",
       "      <td>1277.0</td>\n",
       "      <td>ARID5B</td>\n",
       "      <td>Truncating Mutations</td>\n",
       "      <td>1.0</td>\n",
       "      <td>NaN</td>\n",
       "    </tr>\n",
       "    <tr>\n",
       "      <th>1407</th>\n",
       "      <td>1407.0</td>\n",
       "      <td>FGFR3</td>\n",
       "      <td>K508M</td>\n",
       "      <td>6.0</td>\n",
       "      <td>NaN</td>\n",
       "    </tr>\n",
       "    <tr>\n",
       "      <th>1639</th>\n",
       "      <td>1639.0</td>\n",
       "      <td>FLT1</td>\n",
       "      <td>Amplification</td>\n",
       "      <td>6.0</td>\n",
       "      <td>NaN</td>\n",
       "    </tr>\n",
       "    <tr>\n",
       "      <th>2755</th>\n",
       "      <td>2755.0</td>\n",
       "      <td>BRAF</td>\n",
       "      <td>G596C</td>\n",
       "      <td>7.0</td>\n",
       "      <td>NaN</td>\n",
       "    </tr>\n",
       "    <tr>\n",
       "      <th>-1</th>\n",
       "      <td>1234.0</td>\n",
       "      <td>NaN</td>\n",
       "      <td>NaN</td>\n",
       "      <td>5.0</td>\n",
       "      <td>NaN</td>\n",
       "    </tr>\n",
       "  </tbody>\n",
       "</table>\n",
       "</div>"
      ],
      "text/plain": [
       "           ID    Gene             Variation  Class TEXT\n",
       " 1109  1109.0   FANCA                S1088F    1.0  NaN\n",
       " 1277  1277.0  ARID5B  Truncating Mutations    1.0  NaN\n",
       " 1407  1407.0   FGFR3                 K508M    6.0  NaN\n",
       " 1639  1639.0    FLT1         Amplification    6.0  NaN\n",
       " 2755  2755.0    BRAF                 G596C    7.0  NaN\n",
       "-1     1234.0     NaN                   NaN    5.0  NaN"
      ]
     },
     "execution_count": 238,
     "metadata": {},
     "output_type": "execute_result"
    }
   ],
   "source": [
    "#look for missing valuesisnull().values.any()\n",
    "# Check if any column has null values \n",
    "result.loc[-1] = [1234,np.nan,np.nan,5,np.nan]\n",
    "del_col = result[result.isnull().any(axis=1)]\n",
    "del_col"
   ]
  },
  {
   "cell_type": "markdown",
   "id": "6bd4eaf9",
   "metadata": {},
   "source": [
    "* Quickly see if either column has any null values\n",
    "* df.isnull().any()\n",
    "* Count rows that have any null values\n",
    "* df.isnull().sum()"
   ]
  },
  {
   "cell_type": "code",
   "execution_count": 239,
   "id": "cff1a5ba",
   "metadata": {},
   "outputs": [],
   "source": [
    "# Check if any column has null values \n",
    "# Alternative way \n",
    "#del_col = del_col.replace(\" \", np.nan)  \n",
    "#del_col\n",
    "# df = result.replace('     ', np.nan)                   # to get rid of empty values\n",
    "# nan_values = df[df.isna().any(axis=1)] \n",
    "# nan_values "
   ]
  },
  {
   "cell_type": "code",
   "execution_count": 240,
   "id": "2b84d0ea",
   "metadata": {},
   "outputs": [
    {
     "name": "stdout",
     "output_type": "stream",
     "text": [
      "<class 'pandas.core.frame.DataFrame'>\n",
      "Int64Index: 6 entries, 1109 to -1\n",
      "Data columns (total 5 columns):\n",
      "ID           6 non-null float64\n",
      "Gene         5 non-null object\n",
      "Variation    5 non-null object\n",
      "Class        6 non-null float64\n",
      "TEXT         0 non-null object\n",
      "dtypes: float64(2), object(3)\n",
      "memory usage: 288.0+ bytes\n"
     ]
    }
   ],
   "source": [
    "del_col.info()"
   ]
  },
  {
   "cell_type": "code",
   "execution_count": 241,
   "id": "11258f83",
   "metadata": {},
   "outputs": [],
   "source": [
    "# del_col.columns\n",
    "# result.loc[-1] = [1234,np.nan,np.nan,5,np.nan]\n",
    "# del_col"
   ]
  },
  {
   "cell_type": "code",
   "execution_count": 242,
   "id": "5de29aa3",
   "metadata": {},
   "outputs": [
    {
     "name": "stdout",
     "output_type": "stream",
     "text": [
      "Gene\n",
      "Variation\n",
      "TEXT\n"
     ]
    }
   ],
   "source": [
    "# for col in del_col.columns:\n",
    "#     if \"empty\" in lower(del_col[col])\n",
    "x = del_col.columns[del_col.isin([np.nan]).any()]\n",
    "for item in x:\n",
    "    print(item)"
   ]
  },
  {
   "cell_type": "code",
   "execution_count": 243,
   "id": "e030d79b",
   "metadata": {},
   "outputs": [
    {
     "data": {
      "text/html": [
       "<div>\n",
       "<style scoped>\n",
       "    .dataframe tbody tr th:only-of-type {\n",
       "        vertical-align: middle;\n",
       "    }\n",
       "\n",
       "    .dataframe tbody tr th {\n",
       "        vertical-align: top;\n",
       "    }\n",
       "\n",
       "    .dataframe thead th {\n",
       "        text-align: right;\n",
       "    }\n",
       "</style>\n",
       "<table border=\"1\" class=\"dataframe\">\n",
       "  <thead>\n",
       "    <tr style=\"text-align: right;\">\n",
       "      <th></th>\n",
       "      <th>ID</th>\n",
       "      <th>Gene</th>\n",
       "      <th>Variation</th>\n",
       "      <th>Class</th>\n",
       "      <th>TEXT</th>\n",
       "    </tr>\n",
       "  </thead>\n",
       "  <tbody>\n",
       "    <tr>\n",
       "      <th>1109</th>\n",
       "      <td>1109.0</td>\n",
       "      <td>FANCA</td>\n",
       "      <td>S1088F</td>\n",
       "      <td>1.0</td>\n",
       "      <td>NaN</td>\n",
       "    </tr>\n",
       "    <tr>\n",
       "      <th>1277</th>\n",
       "      <td>1277.0</td>\n",
       "      <td>ARID5B</td>\n",
       "      <td>Truncating Mutations</td>\n",
       "      <td>1.0</td>\n",
       "      <td>NaN</td>\n",
       "    </tr>\n",
       "    <tr>\n",
       "      <th>1407</th>\n",
       "      <td>1407.0</td>\n",
       "      <td>FGFR3</td>\n",
       "      <td>K508M</td>\n",
       "      <td>6.0</td>\n",
       "      <td>NaN</td>\n",
       "    </tr>\n",
       "    <tr>\n",
       "      <th>1639</th>\n",
       "      <td>1639.0</td>\n",
       "      <td>FLT1</td>\n",
       "      <td>Amplification</td>\n",
       "      <td>6.0</td>\n",
       "      <td>NaN</td>\n",
       "    </tr>\n",
       "    <tr>\n",
       "      <th>2755</th>\n",
       "      <td>2755.0</td>\n",
       "      <td>BRAF</td>\n",
       "      <td>G596C</td>\n",
       "      <td>7.0</td>\n",
       "      <td>NaN</td>\n",
       "    </tr>\n",
       "    <tr>\n",
       "      <th>-1</th>\n",
       "      <td>1234.0</td>\n",
       "      <td>NaN</td>\n",
       "      <td>NaN</td>\n",
       "      <td>5.0</td>\n",
       "      <td>NaN</td>\n",
       "    </tr>\n",
       "  </tbody>\n",
       "</table>\n",
       "</div>"
      ],
      "text/plain": [
       "           ID    Gene             Variation  Class TEXT\n",
       " 1109  1109.0   FANCA                S1088F    1.0  NaN\n",
       " 1277  1277.0  ARID5B  Truncating Mutations    1.0  NaN\n",
       " 1407  1407.0   FGFR3                 K508M    6.0  NaN\n",
       " 1639  1639.0    FLT1         Amplification    6.0  NaN\n",
       " 2755  2755.0    BRAF                 G596C    7.0  NaN\n",
       "-1     1234.0     NaN                   NaN    5.0  NaN"
      ]
     },
     "execution_count": 243,
     "metadata": {},
     "output_type": "execute_result"
    }
   ],
   "source": [
    "del_col = result[result.isnull().any(axis=1)]\n",
    "del_col"
   ]
  },
  {
   "cell_type": "code",
   "execution_count": 244,
   "id": "ecd02d7b",
   "metadata": {},
   "outputs": [
    {
     "name": "stdout",
     "output_type": "stream",
     "text": [
      "Drop Column :  TEXT\n"
     ]
    },
    {
     "data": {
      "text/plain": [
       "(['Gene', 'Variation'], ['TEXT'])"
      ]
     },
     "execution_count": 244,
     "metadata": {},
     "output_type": "execute_result"
    }
   ],
   "source": [
    "#def treating_null_values(drop=False,del_col): \n",
    "#non-default argument follows default argument\n",
    "def treating_null_values(result,drop=False):\n",
    "    # replace space with none\n",
    "    result = result.replace(\" \", np.nan) \n",
    "    # get rows where atleast 1 value is null\n",
    "    del_col = result[result.isnull().any(axis=1)]\n",
    "    #get column names where atleast 1 value is nan   \n",
    "    x = list(del_col.columns[del_col.isin([np.nan]).any()])\n",
    "    # drop default false , if yes drop col with all null values\n",
    "    delete_list=[]\n",
    "    if drop:\n",
    "        for col in x:\n",
    "            # convert dataframe into pandas series \n",
    "            # try to get unique values in the column\n",
    "            store = del_col[col].squeeze().unique()\n",
    "            # if all row in a column is nan , then store contain nan\n",
    "            if pd.isna(store[0]):\n",
    "                print(\"Drop Column : \",col)\n",
    "                delete_list.append(col)\n",
    "                #result = result.dropna(col)\n",
    "                # if row dropped remove it from list of column to be modified\n",
    "                x.remove(col)\n",
    "    return x,delete_list\n",
    "\n",
    "returns = treating_null_values(result,drop=True)\n",
    "returns\n",
    "#print(returns[1])\n",
    "#print(type(store[0]))\n",
    "#check for null value in column \n",
    "# print(type(x))\n",
    "# if pd.isna(store[0]):\n",
    "#     print(\"Drop Column\",x[0])"
   ]
  },
  {
   "cell_type": "markdown",
   "id": "a8f2b5a4",
   "metadata": {},
   "source": [
    "* we want to drop all the rows having missing values in any of the columns colA or colC \n",
    "## df = df.dropna ( subset=['colA', 'colC'] )\n",
    "* can even drop all rows if they’re having missing values in both colA and colB:\n",
    "## df = df.dropna( subset=['colA', 'colB'], how='all')\n",
    "## Drop rows with at least N non-missing values\n",
    "*  drop all the rows that have at least N columns with non- missing values, then you need to specify the thresh argument \n",
    "- thresh argument : specifies the number of non-missing values that should be present for each row in order not to be dropped.\n",
    "- if you want to drop all the columns that have more than one null values, then you need to specify thresh to be \n",
    "- len(df.columns) — 1\n",
    "## df = df.dropna(thresh=len(df.columns)-1)"
   ]
  },
  {
   "cell_type": "code",
   "execution_count": 245,
   "id": "bc3b7270",
   "metadata": {},
   "outputs": [],
   "source": [
    "# def modify_col_null(df,modify_list=[],drop_list=[]):\n",
    "#     print(\"inside\",modify_list ,drop_list)\n",
    "# modify_col_null(df,returns[1],returns[0])"
   ]
  },
  {
   "cell_type": "code",
   "execution_count": 246,
   "id": "a1f04b7b",
   "metadata": {},
   "outputs": [
    {
     "data": {
      "text/plain": [
       "{'Gene': ['Gene', 'Variation'], 'Variation': ['Gene', 'Variation']}"
      ]
     },
     "execution_count": 246,
     "metadata": {},
     "output_type": "execute_result"
    }
   ],
   "source": [
    "# {'Gene': ['Gene', 'Variation'], 'Variation': ['Gene', 'Variation']}\n",
    "# creating this kind of DS will be useful \n",
    "def add_values_in_dict(sample_dict, key_list, list_of_values):\n",
    "    ''' Append multiple values to a key in \n",
    "        the given dictionary '''\n",
    "    for key in key_list:\n",
    "        if key not in sample_dict:\n",
    "            sample_dict[key] = list()\n",
    "        sample_dict[key].extend(list_of_values)\n",
    "    return sample_dict\n",
    "\n",
    "sample_dict={}\n",
    "add_values_in_dict(sample_dict,returns[0],['Gene','Variation'])"
   ]
  },
  {
   "cell_type": "code",
   "execution_count": 248,
   "id": "f2f7f9aa",
   "metadata": {},
   "outputs": [],
   "source": [
    "result = result.dropna ( subset=['Gene', 'Variation'])"
   ]
  },
  {
   "cell_type": "code",
   "execution_count": 249,
   "id": "9bc65d3f",
   "metadata": {},
   "outputs": [],
   "source": [
    "result.loc[result['TEXT'].isnull(),'TEXT'] = result['Gene'] +' '+result['Variation']"
   ]
  },
  {
   "cell_type": "code",
   "execution_count": 251,
   "id": "434353e4",
   "metadata": {},
   "outputs": [
    {
     "data": {
      "text/html": [
       "<div>\n",
       "<style scoped>\n",
       "    .dataframe tbody tr th:only-of-type {\n",
       "        vertical-align: middle;\n",
       "    }\n",
       "\n",
       "    .dataframe tbody tr th {\n",
       "        vertical-align: top;\n",
       "    }\n",
       "\n",
       "    .dataframe thead th {\n",
       "        text-align: right;\n",
       "    }\n",
       "</style>\n",
       "<table border=\"1\" class=\"dataframe\">\n",
       "  <thead>\n",
       "    <tr style=\"text-align: right;\">\n",
       "      <th></th>\n",
       "      <th>ID</th>\n",
       "      <th>Gene</th>\n",
       "      <th>Variation</th>\n",
       "      <th>Class</th>\n",
       "      <th>TEXT</th>\n",
       "    </tr>\n",
       "  </thead>\n",
       "  <tbody>\n",
       "  </tbody>\n",
       "</table>\n",
       "</div>"
      ],
      "text/plain": [
       "Empty DataFrame\n",
       "Columns: [ID, Gene, Variation, Class, TEXT]\n",
       "Index: []"
      ]
     },
     "execution_count": 251,
     "metadata": {},
     "output_type": "execute_result"
    }
   ],
   "source": [
    "del_col = result[result.isnull().any(axis=1)]\n",
    "del_col"
   ]
  },
  {
   "cell_type": "markdown",
   "id": "a22bc02e",
   "metadata": {},
   "source": [
    "# Creating Training, Test and Validation data\n",
    "* all spaces in Gene and Variation column to be replaced by _."
   ]
  },
  {
   "cell_type": "code",
   "execution_count": 252,
   "id": "ce9c32f6",
   "metadata": {},
   "outputs": [
    {
     "data": {
      "text/html": [
       "<div>\n",
       "<style scoped>\n",
       "    .dataframe tbody tr th:only-of-type {\n",
       "        vertical-align: middle;\n",
       "    }\n",
       "\n",
       "    .dataframe tbody tr th {\n",
       "        vertical-align: top;\n",
       "    }\n",
       "\n",
       "    .dataframe thead th {\n",
       "        text-align: right;\n",
       "    }\n",
       "</style>\n",
       "<table border=\"1\" class=\"dataframe\">\n",
       "  <thead>\n",
       "    <tr style=\"text-align: right;\">\n",
       "      <th></th>\n",
       "      <th>ID</th>\n",
       "      <th>Gene</th>\n",
       "      <th>Variation</th>\n",
       "      <th>Class</th>\n",
       "      <th>TEXT</th>\n",
       "    </tr>\n",
       "  </thead>\n",
       "  <tbody>\n",
       "    <tr>\n",
       "      <th>0</th>\n",
       "      <td>0.0</td>\n",
       "      <td>FAM58A</td>\n",
       "      <td>Truncating Mutations</td>\n",
       "      <td>1.0</td>\n",
       "      <td>cyclin dependent kinases cdks regulate variety...</td>\n",
       "    </tr>\n",
       "    <tr>\n",
       "      <th>1</th>\n",
       "      <td>1.0</td>\n",
       "      <td>CBL</td>\n",
       "      <td>W802*</td>\n",
       "      <td>2.0</td>\n",
       "      <td>abstract background non small cell lung cancer...</td>\n",
       "    </tr>\n",
       "    <tr>\n",
       "      <th>2</th>\n",
       "      <td>2.0</td>\n",
       "      <td>CBL</td>\n",
       "      <td>Q249E</td>\n",
       "      <td>2.0</td>\n",
       "      <td>abstract background non small cell lung cancer...</td>\n",
       "    </tr>\n",
       "    <tr>\n",
       "      <th>3</th>\n",
       "      <td>3.0</td>\n",
       "      <td>CBL</td>\n",
       "      <td>N454D</td>\n",
       "      <td>3.0</td>\n",
       "      <td>recent evidence demonstrated acquired uniparen...</td>\n",
       "    </tr>\n",
       "    <tr>\n",
       "      <th>4</th>\n",
       "      <td>4.0</td>\n",
       "      <td>CBL</td>\n",
       "      <td>L399V</td>\n",
       "      <td>4.0</td>\n",
       "      <td>oncogenic mutations monomeric casitas b lineag...</td>\n",
       "    </tr>\n",
       "    <tr>\n",
       "      <th>...</th>\n",
       "      <td>...</td>\n",
       "      <td>...</td>\n",
       "      <td>...</td>\n",
       "      <td>...</td>\n",
       "      <td>...</td>\n",
       "    </tr>\n",
       "    <tr>\n",
       "      <th>3316</th>\n",
       "      <td>3316.0</td>\n",
       "      <td>RUNX1</td>\n",
       "      <td>D171N</td>\n",
       "      <td>4.0</td>\n",
       "      <td>introduction myelodysplastic syndromes mds het...</td>\n",
       "    </tr>\n",
       "    <tr>\n",
       "      <th>3317</th>\n",
       "      <td>3317.0</td>\n",
       "      <td>RUNX1</td>\n",
       "      <td>A122*</td>\n",
       "      <td>1.0</td>\n",
       "      <td>introduction myelodysplastic syndromes mds het...</td>\n",
       "    </tr>\n",
       "    <tr>\n",
       "      <th>3318</th>\n",
       "      <td>3318.0</td>\n",
       "      <td>RUNX1</td>\n",
       "      <td>Fusions</td>\n",
       "      <td>1.0</td>\n",
       "      <td>runt related transcription factor 1 gene runx1...</td>\n",
       "    </tr>\n",
       "    <tr>\n",
       "      <th>3319</th>\n",
       "      <td>3319.0</td>\n",
       "      <td>RUNX1</td>\n",
       "      <td>R80C</td>\n",
       "      <td>4.0</td>\n",
       "      <td>runx1 aml1 gene frequent target chromosomal tr...</td>\n",
       "    </tr>\n",
       "    <tr>\n",
       "      <th>3320</th>\n",
       "      <td>3320.0</td>\n",
       "      <td>RUNX1</td>\n",
       "      <td>K83E</td>\n",
       "      <td>4.0</td>\n",
       "      <td>frequent mutations associated leukemia recurre...</td>\n",
       "    </tr>\n",
       "  </tbody>\n",
       "</table>\n",
       "<p>3321 rows × 5 columns</p>\n",
       "</div>"
      ],
      "text/plain": [
       "          ID    Gene  ... Class                                               TEXT\n",
       "0        0.0  FAM58A  ...   1.0  cyclin dependent kinases cdks regulate variety...\n",
       "1        1.0     CBL  ...   2.0  abstract background non small cell lung cancer...\n",
       "2        2.0     CBL  ...   2.0  abstract background non small cell lung cancer...\n",
       "3        3.0     CBL  ...   3.0  recent evidence demonstrated acquired uniparen...\n",
       "4        4.0     CBL  ...   4.0  oncogenic mutations monomeric casitas b lineag...\n",
       "...      ...     ...  ...   ...                                                ...\n",
       "3316  3316.0   RUNX1  ...   4.0  introduction myelodysplastic syndromes mds het...\n",
       "3317  3317.0   RUNX1  ...   1.0  introduction myelodysplastic syndromes mds het...\n",
       "3318  3318.0   RUNX1  ...   1.0  runt related transcription factor 1 gene runx1...\n",
       "3319  3319.0   RUNX1  ...   4.0  runx1 aml1 gene frequent target chromosomal tr...\n",
       "3320  3320.0   RUNX1  ...   4.0  frequent mutations associated leukemia recurre...\n",
       "\n",
       "[3321 rows x 5 columns]"
      ]
     },
     "execution_count": 252,
     "metadata": {},
     "output_type": "execute_result"
    }
   ],
   "source": [
    "result"
   ]
  },
  {
   "cell_type": "code",
   "execution_count": 253,
   "id": "41d6f3c5",
   "metadata": {},
   "outputs": [],
   "source": [
    "y_true = result['Class'].values\n",
    "result.Gene      = result.Gene.str.replace('\\s+', '_')\n",
    "result.Variation = result.Variation.str.replace('\\s+', '_')"
   ]
  },
  {
   "cell_type": "code",
   "execution_count": 254,
   "id": "6eaf8faa",
   "metadata": {},
   "outputs": [
    {
     "data": {
      "text/html": [
       "<div>\n",
       "<style scoped>\n",
       "    .dataframe tbody tr th:only-of-type {\n",
       "        vertical-align: middle;\n",
       "    }\n",
       "\n",
       "    .dataframe tbody tr th {\n",
       "        vertical-align: top;\n",
       "    }\n",
       "\n",
       "    .dataframe thead th {\n",
       "        text-align: right;\n",
       "    }\n",
       "</style>\n",
       "<table border=\"1\" class=\"dataframe\">\n",
       "  <thead>\n",
       "    <tr style=\"text-align: right;\">\n",
       "      <th></th>\n",
       "      <th>ID</th>\n",
       "      <th>Gene</th>\n",
       "      <th>Variation</th>\n",
       "      <th>Class</th>\n",
       "      <th>TEXT</th>\n",
       "    </tr>\n",
       "  </thead>\n",
       "  <tbody>\n",
       "    <tr>\n",
       "      <th>0</th>\n",
       "      <td>0.0</td>\n",
       "      <td>FAM58A</td>\n",
       "      <td>Truncating_Mutations</td>\n",
       "      <td>1.0</td>\n",
       "      <td>cyclin dependent kinases cdks regulate variety...</td>\n",
       "    </tr>\n",
       "    <tr>\n",
       "      <th>1</th>\n",
       "      <td>1.0</td>\n",
       "      <td>CBL</td>\n",
       "      <td>W802*</td>\n",
       "      <td>2.0</td>\n",
       "      <td>abstract background non small cell lung cancer...</td>\n",
       "    </tr>\n",
       "    <tr>\n",
       "      <th>2</th>\n",
       "      <td>2.0</td>\n",
       "      <td>CBL</td>\n",
       "      <td>Q249E</td>\n",
       "      <td>2.0</td>\n",
       "      <td>abstract background non small cell lung cancer...</td>\n",
       "    </tr>\n",
       "    <tr>\n",
       "      <th>3</th>\n",
       "      <td>3.0</td>\n",
       "      <td>CBL</td>\n",
       "      <td>N454D</td>\n",
       "      <td>3.0</td>\n",
       "      <td>recent evidence demonstrated acquired uniparen...</td>\n",
       "    </tr>\n",
       "    <tr>\n",
       "      <th>4</th>\n",
       "      <td>4.0</td>\n",
       "      <td>CBL</td>\n",
       "      <td>L399V</td>\n",
       "      <td>4.0</td>\n",
       "      <td>oncogenic mutations monomeric casitas b lineag...</td>\n",
       "    </tr>\n",
       "    <tr>\n",
       "      <th>...</th>\n",
       "      <td>...</td>\n",
       "      <td>...</td>\n",
       "      <td>...</td>\n",
       "      <td>...</td>\n",
       "      <td>...</td>\n",
       "    </tr>\n",
       "    <tr>\n",
       "      <th>3316</th>\n",
       "      <td>3316.0</td>\n",
       "      <td>RUNX1</td>\n",
       "      <td>D171N</td>\n",
       "      <td>4.0</td>\n",
       "      <td>introduction myelodysplastic syndromes mds het...</td>\n",
       "    </tr>\n",
       "    <tr>\n",
       "      <th>3317</th>\n",
       "      <td>3317.0</td>\n",
       "      <td>RUNX1</td>\n",
       "      <td>A122*</td>\n",
       "      <td>1.0</td>\n",
       "      <td>introduction myelodysplastic syndromes mds het...</td>\n",
       "    </tr>\n",
       "    <tr>\n",
       "      <th>3318</th>\n",
       "      <td>3318.0</td>\n",
       "      <td>RUNX1</td>\n",
       "      <td>Fusions</td>\n",
       "      <td>1.0</td>\n",
       "      <td>runt related transcription factor 1 gene runx1...</td>\n",
       "    </tr>\n",
       "    <tr>\n",
       "      <th>3319</th>\n",
       "      <td>3319.0</td>\n",
       "      <td>RUNX1</td>\n",
       "      <td>R80C</td>\n",
       "      <td>4.0</td>\n",
       "      <td>runx1 aml1 gene frequent target chromosomal tr...</td>\n",
       "    </tr>\n",
       "    <tr>\n",
       "      <th>3320</th>\n",
       "      <td>3320.0</td>\n",
       "      <td>RUNX1</td>\n",
       "      <td>K83E</td>\n",
       "      <td>4.0</td>\n",
       "      <td>frequent mutations associated leukemia recurre...</td>\n",
       "    </tr>\n",
       "  </tbody>\n",
       "</table>\n",
       "<p>3321 rows × 5 columns</p>\n",
       "</div>"
      ],
      "text/plain": [
       "          ID    Gene  ... Class                                               TEXT\n",
       "0        0.0  FAM58A  ...   1.0  cyclin dependent kinases cdks regulate variety...\n",
       "1        1.0     CBL  ...   2.0  abstract background non small cell lung cancer...\n",
       "2        2.0     CBL  ...   2.0  abstract background non small cell lung cancer...\n",
       "3        3.0     CBL  ...   3.0  recent evidence demonstrated acquired uniparen...\n",
       "4        4.0     CBL  ...   4.0  oncogenic mutations monomeric casitas b lineag...\n",
       "...      ...     ...  ...   ...                                                ...\n",
       "3316  3316.0   RUNX1  ...   4.0  introduction myelodysplastic syndromes mds het...\n",
       "3317  3317.0   RUNX1  ...   1.0  introduction myelodysplastic syndromes mds het...\n",
       "3318  3318.0   RUNX1  ...   1.0  runt related transcription factor 1 gene runx1...\n",
       "3319  3319.0   RUNX1  ...   4.0  runx1 aml1 gene frequent target chromosomal tr...\n",
       "3320  3320.0   RUNX1  ...   4.0  frequent mutations associated leukemia recurre...\n",
       "\n",
       "[3321 rows x 5 columns]"
      ]
     },
     "execution_count": 254,
     "metadata": {},
     "output_type": "execute_result"
    }
   ],
   "source": [
    "result"
   ]
  },
  {
   "cell_type": "markdown",
   "id": "4d1ff71f",
   "metadata": {},
   "source": [
    "# we can now start our split process in train, test and validation data set.\n",
    " by setting the “stratify” argument to the y component of the original dataset. This will be used by the train_test_split() function to ensure that both the train and test sets have the proportion of examples in each class that is present in the provided “y” array."
   ]
  },
  {
   "cell_type": "code",
   "execution_count": 257,
   "id": "359e2e83",
   "metadata": {},
   "outputs": [],
   "source": [
    "# Splitting the data into train and test set \n",
    "X_train, test_df, y_train, y_test = train_test_split(result, y_true, stratify=y_true, test_size=0.2)\n",
    "# split the train data now into train validation and cross validation\n",
    "train_df, cv_df, y_train, y_cv = train_test_split(X_train, y_train, stratify=y_train, test_size=0.2)"
   ]
  },
  {
   "cell_type": "code",
   "execution_count": 258,
   "id": "9db19e09",
   "metadata": {},
   "outputs": [
    {
     "name": "stdout",
     "output_type": "stream",
     "text": [
      "Number of data points in train data: 2124\n",
      "Number of data points in test data: 665\n",
      "Number of data points in cross validation data: 532\n"
     ]
    }
   ],
   "source": [
    "print('Number of data points in train data:', train_df.shape[0])\n",
    "print('Number of data points in test data:', test_df.shape[0])\n",
    "print('Number of data points in cross validation data:', cv_df.shape[0])"
   ]
  },
  {
   "cell_type": "code",
   "execution_count": 264,
   "id": "43401f9e",
   "metadata": {},
   "outputs": [],
   "source": [
    "train_class_distribution = train_df['Class'].value_counts()\n",
    "test_class_distribution = test_df['Class'].value_counts()\n",
    "cv_class_distribution = cv_df['Class'].value_counts()"
   ]
  },
  {
   "cell_type": "code",
   "execution_count": 261,
   "id": "41347335",
   "metadata": {},
   "outputs": [
    {
     "data": {
      "text/plain": [
       "7.0    609\n",
       "4.0    439\n",
       "1.0    363\n",
       "2.0    289\n",
       "6.0    176\n",
       "5.0    155\n",
       "3.0     57\n",
       "9.0     24\n",
       "8.0     12\n",
       "Name: Class, dtype: int64"
      ]
     },
     "execution_count": 261,
     "metadata": {},
     "output_type": "execute_result"
    }
   ],
   "source": [
    "train_class_distribution"
   ]
  },
  {
   "cell_type": "markdown",
   "id": "40b2c542",
   "metadata": {},
   "source": [
    "# Building a Random model"
   ]
  },
  {
   "cell_type": "code",
   "execution_count": 267,
   "id": "fb84b0cb",
   "metadata": {},
   "outputs": [
    {
     "data": {
      "text/plain": [
       "'\\n since log loss is the accuracy measure for the problem and there is no threshold \\nfor log loss good model \\nwe build a random model and compare other models WRT to it \\nthus we evaluate our model is good or bad \\n'"
      ]
     },
     "execution_count": 267,
     "metadata": {},
     "output_type": "execute_result"
    }
   ],
   "source": [
    "'''\n",
    " since log loss is the accuracy measure for the problem and there is no threshold \n",
    "for log loss good model \n",
    "we build a random model and compare other models WRT to it \n",
    "thus we evaluate our model is good or bad \n",
    "'''"
   ]
  },
  {
   "cell_type": "code",
   "execution_count": 281,
   "id": "07922385",
   "metadata": {},
   "outputs": [
    {
     "data": {
      "text/plain": [
       "'\\n1.0\\n'"
      ]
     },
     "execution_count": 281,
     "metadata": {},
     "output_type": "execute_result"
    }
   ],
   "source": [
    "test_data_len = test_df.shape[0]\n",
    "cv_data_len = cv_df.shape[0]\n",
    "#-------------------------------\n",
    "# validating the calculation so that the probability sum = 1\n",
    "rand_probs = np.random.rand(1,9)\n",
    "sum(rand_probs)\n",
    "'''\n",
    "array([0.15090438, 0.31058949, 0.57305264, 0.079902  , 0.900063  ,\n",
    "       0.70679603, 0.38556122, 0.77737241, 0.63659891])\n",
    "'''\n",
    "sum(sum(rand_probs) )\n",
    "'''\n",
    "4.98310313837684\n",
    "'''\n",
    "k =(rand_probs/sum(sum(rand_probs) ) )\n",
    "\"\"\"\n",
    "array([[0.15976714, 0.13078555, 0.08236776, 0.03217746, 0.05158473,\n",
    "        0.00778152, 0.11440138, 0.22473536, 0.19639909]])\n",
    "\"\"\"\n",
    "k[0]\n",
    "\"\"\"\n",
    "array([0.17114048, 0.21528683, 0.15934698, 0.17622461, 0.04681149,\n",
    "       0.00232496, 0.11860962, 0.09600752, 0.0142475 ])\n",
    "\"\"\"\n",
    "sum(k[0])\n",
    "'''\n",
    "1.0\n",
    "'''"
   ]
  },
  {
   "cell_type": "code",
   "execution_count": 283,
   "id": "5f0bcd69",
   "metadata": {},
   "outputs": [
    {
     "name": "stdout",
     "output_type": "stream",
     "text": [
      "Log loss on Cross Validation Data using Random Model 2.522525704969488\n"
     ]
    }
   ],
   "source": [
    "# we create a output array that has exactly same size as the CV data\n",
    "cv_predicted_y = np.zeros((cv_data_len,9))\n",
    "for i in range(cv_data_len):\n",
    "    rand_probs = np.random.rand(1,9)\n",
    "    # this we are doing to make the sum of probabilities as 1 \n",
    "    # we validated this calculation in the previous block\n",
    "    cv_predicted_y[i] = ( (rand_probs/sum(sum(rand_probs) ) )[0])\n",
    "print(\"Log loss on Cross Validation Data using Random Model\",log_loss(y_cv,cv_predicted_y, eps=1e-15))"
   ]
  },
  {
   "cell_type": "code",
   "execution_count": 285,
   "id": "b8fcf5cd",
   "metadata": {},
   "outputs": [],
   "source": [
    "# repeat the same for test error \n"
   ]
  },
  {
   "cell_type": "code",
   "execution_count": 286,
   "id": "4393f066",
   "metadata": {},
   "outputs": [
    {
     "name": "stdout",
     "output_type": "stream",
     "text": [
      "Log loss on Test Data using Random Model 2.4764028868826875\n"
     ]
    }
   ],
   "source": [
    "# Test-Set error.\n",
    "#we create a output array that has exactly same as the test data\n",
    "test_predicted_y = np.zeros((test_data_len,9))\n",
    "for i in range(test_data_len):\n",
    "    rand_probs = np.random.rand(1,9)\n",
    "    test_predicted_y[i] = ((rand_probs/sum(sum(rand_probs)))[0])\n",
    "print(\"Log loss on Test Data using Random Model\",log_loss(y_test,test_predicted_y, eps=1e-15))\n"
   ]
  },
  {
   "cell_type": "code",
   "execution_count": 287,
   "id": "221f07e3",
   "metadata": {},
   "outputs": [
    {
     "data": {
      "text/plain": [
       "array([2, 0, 6, 1, 3, 5, 6, 8, 3, 3, 0, 0, 7, 1, 4, 2, 1, 0, 7, 1, 8, 5,\n",
       "       4, 6, 6, 2, 3, 8, 3, 3, 3, 3, 8, 3, 3, 8, 8, 5, 8, 6, 7, 8, 6, 6,\n",
       "       8, 0, 2, 2, 2, 5, 3, 3, 3, 3, 8, 6, 5, 0, 4, 0, 7, 6, 0, 2, 5, 5,\n",
       "       3, 5, 4, 7, 5, 0, 4, 2, 2, 1, 5, 4, 8, 8, 8, 3, 6, 8, 7, 3, 1, 6,\n",
       "       1, 1, 5, 5, 6, 4, 4, 1, 1, 4, 4, 4, 4, 3, 5, 7, 7, 4, 3, 5, 1, 2,\n",
       "       0, 5, 4, 0, 7, 7, 4, 1, 1, 7, 3, 8, 8, 1, 2, 2, 0, 1, 8, 7, 3, 5,\n",
       "       1, 8, 3, 8, 8, 5, 0, 8, 2, 3, 0, 2, 7, 0, 5, 6, 4, 2, 4, 0, 3, 2,\n",
       "       2, 3, 2, 3, 5, 4, 4, 5, 5, 8, 1, 6, 3, 5, 5, 1, 1, 2, 7, 5, 1, 3,\n",
       "       4, 5, 8, 3, 6, 0, 4, 0, 7, 5, 1, 3, 6, 2, 0, 0, 2, 7, 7, 0, 6, 1,\n",
       "       2, 7, 0, 6, 3, 8, 6, 0, 2, 3, 4, 8, 6, 7, 0, 0, 2, 7, 6, 2, 8, 4,\n",
       "       8, 5, 3, 0, 2, 2, 0, 0, 8, 5, 3, 0, 1, 6, 3, 7, 6, 1, 0, 4, 7, 2,\n",
       "       7, 4, 2, 2, 2, 4, 6, 7, 7, 8, 3, 6, 2, 5, 8, 6, 2, 2, 5, 3, 2, 6,\n",
       "       4, 1, 0, 6, 8, 3, 0, 3, 7, 4, 8, 6, 1, 3, 8, 8, 0, 6, 7, 6, 1, 8,\n",
       "       7, 1, 7, 1, 4, 5, 1, 5, 5, 1, 1, 8, 2, 3, 2, 1, 2, 5, 2, 3, 1, 6,\n",
       "       5, 0, 0, 6, 6, 4, 7, 3, 8, 1, 8, 3, 2, 2, 4, 7, 4, 6, 4, 0, 4, 1,\n",
       "       2, 7, 6, 4, 5, 7, 7, 0, 3, 0, 5, 3, 8, 6, 2, 3, 6, 5, 3, 7, 0, 1,\n",
       "       7, 1, 8, 7, 3, 2, 1, 1, 8, 2, 8, 2, 7, 4, 6, 3, 6, 0, 1, 3, 3, 6,\n",
       "       0, 7, 0, 0, 8, 1, 8, 1, 6, 5, 7, 3, 1, 5, 8, 1, 3, 1, 0, 4, 1, 8,\n",
       "       0, 8, 1, 4, 6, 6, 5, 8, 1, 0, 8, 7, 3, 1, 0, 4, 2, 6, 5, 0, 8, 3,\n",
       "       8, 1, 7, 6, 6, 1, 2, 3, 3, 0, 3, 0, 2, 7, 0, 7, 2, 2, 7, 7, 7, 6,\n",
       "       4, 7, 5, 5, 0, 5, 5, 5, 8, 7, 1, 2, 8, 0, 4, 7, 6, 5, 8, 1, 5, 6,\n",
       "       3, 3, 5, 4, 5, 2, 7, 4, 7, 8, 7, 4, 3, 5, 0, 2, 8, 3, 6, 3, 1, 1,\n",
       "       4, 5, 4, 8, 6, 2, 0, 1, 2, 2, 4, 6, 6, 6, 8, 4, 4, 5, 3, 1, 8, 3,\n",
       "       5, 3, 1, 8, 3, 0, 5, 4, 5, 2, 7, 1, 1, 6, 7, 4, 8, 2, 6, 5, 1, 5,\n",
       "       6, 2, 4, 1, 1, 1, 1, 8, 8, 8, 4, 7, 2, 0, 2, 8, 7, 7, 6, 0, 2, 1,\n",
       "       8, 8, 1, 0, 4, 1, 1, 5, 1, 3, 7, 6, 0, 0, 8, 6, 5, 6, 3, 8, 3, 0,\n",
       "       5, 0, 7, 4, 3, 5, 5, 3, 5, 0, 7, 2, 5, 7, 5, 3, 1, 0, 2, 1, 5, 3,\n",
       "       5, 5, 3, 6, 6, 3, 0, 4, 8, 1, 3, 2, 6, 0, 0, 4, 8, 4, 8, 7, 8, 3,\n",
       "       4, 8, 5, 0, 2, 3, 8, 4, 7, 1, 3, 2, 5, 5, 6, 4, 1, 0, 2, 4, 6, 7,\n",
       "       8, 1, 5, 2, 4, 6, 8, 5, 4, 7, 5, 0, 8, 2, 4, 4, 3, 5, 1, 6, 8, 6,\n",
       "       1, 0, 4, 3, 1], dtype=int64)"
      ]
     },
     "execution_count": 287,
     "metadata": {},
     "output_type": "execute_result"
    }
   ],
   "source": [
    "# Lets get the index of max probablity\n",
    "predicted_y =np.argmax(test_predicted_y, axis=1)\n",
    "\n",
    "# Lets see the output. these will be 665 values present in test dataset\n",
    "predicted_y"
   ]
  },
  {
   "cell_type": "code",
   "execution_count": 289,
   "id": "381f2230",
   "metadata": {},
   "outputs": [],
   "source": [
    "#see the index value ranging from 0 to 8. So, lets make it as 1 to 9 we will increase this value by 1.\n",
    "predicted_y = predicted_y + 1"
   ]
  },
  {
   "cell_type": "markdown",
   "id": "f259fc4c",
   "metadata": {},
   "source": [
    "# Confusion Matrix"
   ]
  },
  {
   "cell_type": "code",
   "execution_count": 291,
   "id": "e1262c54",
   "metadata": {},
   "outputs": [],
   "source": [
    "C = confusion_matrix(y_test, predicted_y)"
   ]
  },
  {
   "cell_type": "code",
   "execution_count": 298,
   "id": "51df1d3b",
   "metadata": {},
   "outputs": [
    {
     "data": {
      "image/png": "[encoded data removed]",
      "text/plain": [
       "<Figure size 1440x504 with 2 Axes>"
      ]
     },
     "metadata": {},
     "output_type": "display_data"
    }
   ],
   "source": [
    "labels = [1,2,3,4,5,6,7,8,9]\n",
    "plt.figure(figsize=(20,7))\n",
    "sns.heatmap(C, annot=True, cmap=\"YlGnBu\", fmt=\".3f\", xticklabels=labels, yticklabels=labels)\n",
    "plt.xlabel('Predicted Class')\n",
    "plt.ylabel('Original Class')\n",
    "plt.show()"
   ]
  },
  {
   "cell_type": "markdown",
   "id": "b95b42c5",
   "metadata": {},
   "source": [
    "* we see the diagonal value are not high , the model is obviously not good "
   ]
  },
  {
   "cell_type": "code",
   "execution_count": null,
   "id": "260e6db0",
   "metadata": {},
   "outputs": [],
   "source": []
  },
  {
   "cell_type": "code",
   "execution_count": 299,
   "id": "3607f3a1",
   "metadata": {},
   "outputs": [
    {
     "data": {
      "text/plain": [
       "array([[12, 13, 13, 16, 13, 11,  9, 10, 17],\n",
       "       [12, 11, 10,  7, 10, 11, 11,  9, 10],\n",
       "       [ 2,  2,  0,  4,  3,  1,  2,  2,  2],\n",
       "       [11, 18, 11, 21,  9, 22, 14, 14, 17],\n",
       "       [ 5,  4,  5,  5,  6,  3,  6,  6,  8],\n",
       "       [ 7,  6,  6,  4,  7,  5,  6,  5,  9],\n",
       "       [23, 25, 25, 25, 17, 23, 20, 18, 15],\n",
       "       [ 0,  0,  0,  1,  0,  1,  1,  1,  0],\n",
       "       [ 0,  1,  1,  0,  2,  0,  1,  1,  1]], dtype=int64)"
      ]
     },
     "execution_count": 299,
     "metadata": {},
     "output_type": "execute_result"
    }
   ],
   "source": [
    "C"
   ]
  },
  {
   "cell_type": "code",
   "execution_count": 302,
   "id": "8c8aae6c",
   "metadata": {},
   "outputs": [
    {
     "data": {
      "text/plain": [
       "array([72, 80, 71, 83, 67, 77, 70, 66, 79], dtype=int64)"
      ]
     },
     "execution_count": 302,
     "metadata": {},
     "output_type": "execute_result"
    }
   ],
   "source": [
    "C.sum(axis=0)\n",
    "# vertical sum \n",
    "# array([72, 80, 71, 83, 67, 77, 70, 66, 79], dtype=int64)\n",
    "#.sum(axis=1)\n",
    "# horizontal sum\n",
    "#  array([114,  91,  18, 137,  48,  55, 191,   4,   7], dtype=int64)"
   ]
  },
  {
   "cell_type": "code",
   "execution_count": 304,
   "id": "ded6bc2d",
   "metadata": {},
   "outputs": [
    {
     "data": {
      "image/png": "[encoded data removed]",
      "text/plain": [
       "<Figure size 1440x504 with 2 Axes>"
      ]
     },
     "metadata": {},
     "output_type": "display_data"
    }
   ],
   "source": [
    "#Precision matrix\n",
    "\n",
    "B =(C/C.sum(axis=0))\n",
    "\n",
    "plt.figure(figsize=(20,7))\n",
    "sns.heatmap(B, annot=True, cmap=\"YlGnBu\", fmt=\".3f\", xticklabels=labels, yticklabels=labels)\n",
    "plt.xlabel('Predicted Class')\n",
    "plt.ylabel('Original Class')\n",
    "plt.show()"
   ]
  },
  {
   "cell_type": "code",
   "execution_count": null,
   "id": "76738d0d",
   "metadata": {},
   "outputs": [],
   "source": []
  },
  {
   "cell_type": "code",
   "execution_count": 305,
   "id": "aaf95c7e",
   "metadata": {},
   "outputs": [
    {
     "data": {
      "image/png": "[encoded data removed]",
      "text/plain": [
       "<Figure size 1440x504 with 2 Axes>"
      ]
     },
     "metadata": {},
     "output_type": "display_data"
    }
   ],
   "source": [
    "# Recall matrix\n",
    "\n",
    "A =(((C.T)/(C.sum(axis=1))).T)\n",
    "\n",
    "plt.figure(figsize=(20,7))\n",
    "sns.heatmap(A, annot=True, cmap=\"YlGnBu\", fmt=\".3f\", xticklabels=labels, yticklabels=labels)\n",
    "plt.xlabel('Predicted Class')\n",
    "plt.ylabel('Original Class')\n",
    "plt.show()"
   ]
  },
  {
   "cell_type": "code",
   "execution_count": null,
   "id": "6338a290",
   "metadata": {},
   "outputs": [],
   "source": []
  },
  {
   "cell_type": "markdown",
   "id": "b67f53e7",
   "metadata": {},
   "source": [
    "# preprocessing the data "
   ]
  },
  {
   "cell_type": "code",
   "execution_count": 310,
   "id": "9f1837af",
   "metadata": {},
   "outputs": [
    {
     "name": "stdout",
     "output_type": "stream",
     "text": [
      "Number of Unique Genes : 230\n"
     ]
    }
   ],
   "source": [
    "unique_genes = train_df['Gene'].value_counts()\n",
    "print('Number of Unique Genes :', unique_genes.shape[0])"
   ]
  },
  {
   "cell_type": "markdown",
   "id": "5b6ae85d",
   "metadata": {},
   "source": [
    "## genes are categorical nature \n",
    "## we have 2 techniques to deal with it.\n",
    "\n",
    "    ***One-hot encoding***\n",
    "    ***Response Encoding*** (Mean imputation)\n"
   ]
  },
  {
   "cell_type": "code",
   "execution_count": 313,
   "id": "dd0a01d6",
   "metadata": {},
   "outputs": [],
   "source": [
    "# one-hot encoding of Gene feature.\n",
    "gene_vectorizer = CountVectorizer()\n",
    "train_gene_feature_onehotCoding = gene_vectorizer.fit_transform(train_df['Gene'])\n",
    "test_gene_feature_onehotCoding = gene_vectorizer.transform(test_df['Gene'])\n",
    "cv_gene_feature_onehotCoding = gene_vectorizer.transform(cv_df['Gene'])"
   ]
  },
  {
   "cell_type": "code",
   "execution_count": 315,
   "id": "1dcb2cb3",
   "metadata": {},
   "outputs": [
    {
     "data": {
      "text/plain": [
       "(2124, 229)"
      ]
     },
     "execution_count": 315,
     "metadata": {},
     "output_type": "execute_result"
    }
   ],
   "source": [
    "train_gene_feature_onehotCoding.shape"
   ]
  },
  {
   "cell_type": "code",
   "execution_count": 320,
   "id": "cd45332b",
   "metadata": {},
   "outputs": [],
   "source": [
    "#column names after one-hot encoding for Gene column\n",
    "#gene_vectorizer.get_feature_names()"
   ]
  },
  {
   "cell_type": "markdown",
   "id": "d7eb8aa4",
   "metadata": {},
   "source": [
    "### Now, lets also create Response encoding columns for Gene column"
   ]
  },
  {
   "cell_type": "code",
   "execution_count": 343,
   "id": "6d875574",
   "metadata": {},
   "outputs": [],
   "source": [
    "alpha = 1\n",
    "feature = \"Gene\"\n",
    "value_count = train_df[feature].value_counts()\n",
    "gv_dict = dict()\n",
    "for i, denominator in value_count.items():\n",
    "    #print(i,denominator)\n",
    "    vec = []\n",
    "    # class range 1 - 9\n",
    "    for k in range(1,10):\n",
    "        cls_cnt = train_df.loc[(train_df['Class']==k) & (train_df[feature]==i)]\n",
    "        vec.append((cls_cnt.shape[0] + alpha*10)/ (denominator + 90*alpha))\n",
    "        #print(\"Gene = \", i ,\"class =\" ,k,\" \",cls_cnt.shape[0],\"vec :\",vec )\n",
    "    #print(100*'#')\n",
    "    gv_dict[i]=vec\n",
    "#return gv_dict\n",
    "    #print(cls_cnt)"
   ]
  },
  {
   "cell_type": "code",
   "execution_count": 345,
   "id": "c4416985",
   "metadata": {},
   "outputs": [],
   "source": [
    "# get_gv_fea_dict: Get Gene varaition Feature Dict\n",
    "def get_gv_fea_dict(alpha, feature, df):\n",
    "\n",
    "    value_count = train_df[feature].value_counts()\n",
    "    # like dictonary { feature : count } \n",
    "    # gv_dict : Gene Variation Dict, which contains the probability array for each gene/variation\n",
    "    gv_dict = dict()\n",
    "    \n",
    "    # denominator will contain the number of time that particular feature occured in whole data\n",
    "    for i, denominator in value_count.items():\n",
    "        # vec will contain (p(yi==1/Gi) probability of gene/variation belongs to perticular class\n",
    "        # vec is 9 diamensional vector\n",
    "        vec = []\n",
    "        for k in range(1,10):\n",
    "\n",
    "            cls_cnt = train_df.loc[(train_df['Class']==k) & (train_df[feature]==i)]\n",
    "            \n",
    "            # cls_cnt.shape[0](numerator) will contain the number of time that particular feature occured in whole data\n",
    "            vec.append( (cls_cnt.shape[0] + alpha*10)/ (denominator + 90*alpha) )\n",
    "\n",
    "        # we are adding the gene/variation to the dict as key and vec as value\n",
    "        gv_dict[i]=vec\n",
    "    return gv_dict\n",
    "\n",
    "# Get Gene variation feature\n",
    "def get_gv_feature(alpha, feature, df):\n",
    "\n",
    "    gv_dict = get_gv_fea_dict(alpha, feature, df)\n",
    "    # value_count is similar in get_gv_fea_dict\n",
    "    value_count = train_df[feature].value_counts()\n",
    "    \n",
    "    # gv_fea: Gene_variation feature, it will contain the feature for each feature value in the data\n",
    "    gv_fea = []\n",
    "    # for every feature values in the given data frame we will check if it is there in the train data then we will add the feature to gv_fea\n",
    "    # if not we will add [1/9,1/9,1/9,1/9,1/9,1/9,1/9,1/9,1/9] to gv_fea\n",
    "    for index, row in df.iterrows():\n",
    "        if row[feature] in dict(value_count).keys():\n",
    "            gv_fea.append(gv_dict[row[feature]])\n",
    "        else:\n",
    "            gv_fea.append([1/9,1/9,1/9,1/9,1/9,1/9,1/9,1/9,1/9])\n",
    "#             gv_fea.append([-1,-1,-1,-1,-1,-1,-1,-1,-1])\n",
    "    return gv_fea"
   ]
  },
  {
   "cell_type": "code",
   "execution_count": 346,
   "id": "7214ac5b",
   "metadata": {},
   "outputs": [],
   "source": [
    "#response-coding of the Gene feature\n",
    "# alpha is used for laplace smoothing\n",
    "alpha = 1\n",
    "# train gene feature\n",
    "train_gene_feature_responseCoding = np.array(get_gv_feature(alpha, \"Gene\", train_df))\n",
    "# test gene feature\n",
    "test_gene_feature_responseCoding = np.array(get_gv_feature(alpha, \"Gene\", test_df))\n",
    "# cross validation gene feature\n",
    "cv_gene_feature_responseCoding = np.array(get_gv_feature(alpha, \"Gene\", cv_df))"
   ]
  },
  {
   "cell_type": "code",
   "execution_count": 347,
   "id": "ccd9f42a",
   "metadata": {},
   "outputs": [
    {
     "data": {
      "text/plain": [
       "(2124, 9)"
      ]
     },
     "execution_count": 347,
     "metadata": {},
     "output_type": "execute_result"
    }
   ],
   "source": [
    "train_gene_feature_responseCoding.shape"
   ]
  },
  {
   "cell_type": "code",
   "execution_count": 351,
   "id": "2f2b5c19",
   "metadata": {},
   "outputs": [
    {
     "data": {
      "text/plain": [
       "array([0.10752688, 0.11827957, 0.10752688, 0.10752688, 0.10752688,\n",
       "       0.10752688, 0.12903226, 0.10752688, 0.10752688])"
      ]
     },
     "execution_count": 351,
     "metadata": {},
     "output_type": "execute_result"
    }
   ],
   "source": [
    "train_gene_feature_responseCoding[0]"
   ]
  },
  {
   "cell_type": "markdown",
   "id": "db8b104c",
   "metadata": {},
   "source": [
    "#  question is how good is Gene column feature to predict my 9 classes. \n",
    "*  we will build model having only gene column with one hot encoder with simple model like Logistic regression. If log loss with only one column Gene comes out to be better than random model, than this feature is important."
   ]
  },
  {
   "cell_type": "code",
   "execution_count": 353,
   "id": "0f2b1f44",
   "metadata": {},
   "outputs": [
    {
     "data": {
      "text/plain": [
       "[1e-05, 0.0001, 0.001, 0.01, 0.1, 1]"
      ]
     },
     "execution_count": 353,
     "metadata": {},
     "output_type": "execute_result"
    }
   ],
   "source": [
    "# We need a hyperparemeter for SGD classifier.\n",
    "alpha = [10 ** x for x in range(-5, 1)]\n",
    "alpha"
   ]
  },
  {
   "cell_type": "code",
   "execution_count": 358,
   "id": "66386e52",
   "metadata": {},
   "outputs": [
    {
     "name": "stdout",
     "output_type": "stream",
     "text": [
      "For values of alpha =  1e-05 The log loss is: 1.2475308302047712\n",
      "For values of alpha =  0.0001 The log loss is: 1.2119785436672803\n",
      "For values of alpha =  0.001 The log loss is: 1.2416532594711347\n",
      "For values of alpha =  0.01 The log loss is: 1.364666643181691\n",
      "For values of alpha =  0.1 The log loss is: 1.4674707651309258\n",
      "For values of alpha =  1 The log loss is: 1.5022006197780025\n"
     ]
    }
   ],
   "source": [
    "cv_log_error_array=[]\n",
    "for i in alpha:\n",
    "    clf = SGDClassifier(alpha=i, penalty='l2', loss='log', random_state=42)\n",
    "    clf.fit(train_gene_feature_onehotCoding, y_train)\n",
    "    sig_clf = CalibratedClassifierCV(clf, method=\"sigmoid\")\n",
    "    sig_clf.fit(train_gene_feature_onehotCoding, y_train)\n",
    "    predict_y = sig_clf.predict_proba(cv_gene_feature_onehotCoding)\n",
    "    cv_log_error_array.append(log_loss(y_cv, predict_y, labels=clf.classes_, eps=1e-15))\n",
    "    print('For values of alpha = ', i, \"The log loss is:\",log_loss(y_cv, predict_y, labels=clf.classes_, eps=1e-15))"
   ]
  },
  {
   "cell_type": "code",
   "execution_count": 360,
   "id": "e76db3ed",
   "metadata": {},
   "outputs": [
    {
     "data": {
      "text/plain": [
       "[1.2475308302047712,\n",
       " 1.2119785436672803,\n",
       " 1.2416532594711347,\n",
       " 1.364666643181691,\n",
       " 1.4674707651309258,\n",
       " 1.5022006197780025]"
      ]
     },
     "execution_count": 360,
     "metadata": {},
     "output_type": "execute_result"
    }
   ],
   "source": [
    "cv_log_error_array"
   ]
  },
  {
   "cell_type": "code",
   "execution_count": 361,
   "id": "a512d8f1",
   "metadata": {},
   "outputs": [
    {
     "data": {
      "text/plain": [
       "[1e-05, 0.0001, 0.001, 0.01, 0.1, 1]"
      ]
     },
     "execution_count": 361,
     "metadata": {},
     "output_type": "execute_result"
    }
   ],
   "source": [
    "alpha"
   ]
  },
  {
   "cell_type": "code",
   "execution_count": 359,
   "id": "8f98314d",
   "metadata": {},
   "outputs": [
    {
     "data": {
      "text/plain": [
       "[<matplotlib.lines.Line2D at 0x17b2a281400>]"
      ]
     },
     "execution_count": 359,
     "metadata": {},
     "output_type": "execute_result"
    },
    {
     "data": {
      "image/png": "[encoded data removed]",
      "text/plain": [
       "<Figure size 432x288 with 1 Axes>"
      ]
     },
     "metadata": {},
     "output_type": "display_data"
    }
   ],
   "source": [
    "# Lets plot the same to check the best Alpha value\n",
    "fig, ax = plt.subplots()\n",
    "ax.plot(alpha, cv_log_error_array,c='g')"
   ]
  },
  {
   "cell_type": "markdown",
   "id": "d187d827",
   "metadata": {},
   "source": [
    "### annotate() function in the pyplot module (or annotate method of the Axes class) is used to draw an arrow connecting two points on the plot."
   ]
  },
  {
   "cell_type": "code",
   "execution_count": 362,
   "id": "3d48a25d",
   "metadata": {},
   "outputs": [
    {
     "name": "stdout",
     "output_type": "stream",
     "text": [
      "For values of best alpha =  0.0001 The train log loss is: 0.993558437006115\n",
      "For values of best alpha =  0.0001 The cross validation log loss is: 1.2119785436672803\n",
      "For values of best alpha =  0.0001 The test log loss is: 1.1896039707481354\n"
     ]
    }
   ],
   "source": [
    "# Lets use best alpha value as we can see from above graph and compute log loss\n",
    "best_alpha = np.argmin(cv_log_error_array)\n",
    "clf = SGDClassifier(alpha=alpha[best_alpha], penalty='l2', loss='log', random_state=42)\n",
    "clf.fit(train_gene_feature_onehotCoding, y_train)\n",
    "sig_clf = CalibratedClassifierCV(clf, method=\"sigmoid\")\n",
    "sig_clf.fit(train_gene_feature_onehotCoding, y_train)\n",
    "\n",
    "predict_y = sig_clf.predict_proba(train_gene_feature_onehotCoding)\n",
    "print('For values of best alpha = ', alpha[best_alpha], \"The train log loss is:\",log_loss(y_train, predict_y, labels=clf.classes_, eps=1e-15))\n",
    "predict_y = sig_clf.predict_proba(cv_gene_feature_onehotCoding)\n",
    "print('For values of best alpha = ', alpha[best_alpha], \"The cross validation log loss is:\",log_loss(y_cv, predict_y, labels=clf.classes_, eps=1e-15))\n",
    "predict_y = sig_clf.predict_proba(test_gene_feature_onehotCoding)\n",
    "print('For values of best alpha = ', alpha[best_alpha], \"The test log loss is:\",log_loss(y_test, predict_y, labels=clf.classes_, eps=1e-15))\n"
   ]
  },
  {
   "cell_type": "markdown",
   "id": "48f250df",
   "metadata": {},
   "source": [
    "* Log loss on Cross Validation Data using Random Model 2.522525704969488\n",
    "* Log loss on Test Data using Random Model 2.4764028868826875"
   ]
  },
  {
   "cell_type": "markdown",
   "id": "7ac6b772",
   "metadata": {},
   "source": [
    "#### we definitely see some improvement hence the Gene column contributes to model accuracy "
   ]
  },
  {
   "cell_type": "markdown",
   "id": "3e3ab73c",
   "metadata": {},
   "source": [
    "# Evaluating Variation column"
   ]
  },
  {
   "cell_type": "code",
   "execution_count": 365,
   "id": "dac433e4",
   "metadata": {},
   "outputs": [
    {
     "data": {
      "text/html": [
       "<div>\n",
       "<style scoped>\n",
       "    .dataframe tbody tr th:only-of-type {\n",
       "        vertical-align: middle;\n",
       "    }\n",
       "\n",
       "    .dataframe tbody tr th {\n",
       "        vertical-align: top;\n",
       "    }\n",
       "\n",
       "    .dataframe thead th {\n",
       "        text-align: right;\n",
       "    }\n",
       "</style>\n",
       "<table border=\"1\" class=\"dataframe\">\n",
       "  <thead>\n",
       "    <tr style=\"text-align: right;\">\n",
       "      <th></th>\n",
       "      <th>ID</th>\n",
       "      <th>Gene</th>\n",
       "      <th>Variation</th>\n",
       "      <th>Class</th>\n",
       "      <th>TEXT</th>\n",
       "    </tr>\n",
       "  </thead>\n",
       "  <tbody>\n",
       "    <tr>\n",
       "      <th>0</th>\n",
       "      <td>0.0</td>\n",
       "      <td>FAM58A</td>\n",
       "      <td>Truncating_Mutations</td>\n",
       "      <td>1.0</td>\n",
       "      <td>cyclin dependent kinases cdks regulate variety...</td>\n",
       "    </tr>\n",
       "    <tr>\n",
       "      <th>1</th>\n",
       "      <td>1.0</td>\n",
       "      <td>CBL</td>\n",
       "      <td>W802*</td>\n",
       "      <td>2.0</td>\n",
       "      <td>abstract background non small cell lung cancer...</td>\n",
       "    </tr>\n",
       "    <tr>\n",
       "      <th>2</th>\n",
       "      <td>2.0</td>\n",
       "      <td>CBL</td>\n",
       "      <td>Q249E</td>\n",
       "      <td>2.0</td>\n",
       "      <td>abstract background non small cell lung cancer...</td>\n",
       "    </tr>\n",
       "    <tr>\n",
       "      <th>3</th>\n",
       "      <td>3.0</td>\n",
       "      <td>CBL</td>\n",
       "      <td>N454D</td>\n",
       "      <td>3.0</td>\n",
       "      <td>recent evidence demonstrated acquired uniparen...</td>\n",
       "    </tr>\n",
       "    <tr>\n",
       "      <th>4</th>\n",
       "      <td>4.0</td>\n",
       "      <td>CBL</td>\n",
       "      <td>L399V</td>\n",
       "      <td>4.0</td>\n",
       "      <td>oncogenic mutations monomeric casitas b lineag...</td>\n",
       "    </tr>\n",
       "  </tbody>\n",
       "</table>\n",
       "</div>"
      ],
      "text/plain": [
       "    ID    Gene  ... Class                                               TEXT\n",
       "0  0.0  FAM58A  ...   1.0  cyclin dependent kinases cdks regulate variety...\n",
       "1  1.0     CBL  ...   2.0  abstract background non small cell lung cancer...\n",
       "2  2.0     CBL  ...   2.0  abstract background non small cell lung cancer...\n",
       "3  3.0     CBL  ...   3.0  recent evidence demonstrated acquired uniparen...\n",
       "4  4.0     CBL  ...   4.0  oncogenic mutations monomeric casitas b lineag...\n",
       "\n",
       "[5 rows x 5 columns]"
      ]
     },
     "execution_count": 365,
     "metadata": {},
     "output_type": "execute_result"
    }
   ],
   "source": [
    "result.head()"
   ]
  },
  {
   "cell_type": "code",
   "execution_count": 366,
   "id": "7ec22532",
   "metadata": {},
   "outputs": [
    {
     "name": "stdout",
     "output_type": "stream",
     "text": [
      "Number of Unique Variations : 1929\n",
      "Truncating_Mutations    61\n",
      "Amplification           48\n",
      "Deletion                46\n",
      "Fusions                 18\n",
      "Overexpression           4\n",
      "G12V                     4\n",
      "Q61R                     3\n",
      "E17K                     3\n",
      "Q61L                     3\n",
      "G12A                     2\n",
      "Name: Variation, dtype: int64\n"
     ]
    }
   ],
   "source": [
    "unique_variations = train_df['Variation'].value_counts()\n",
    "print('Number of Unique Variations :', unique_variations.shape[0])\n",
    "# the top 10 variations that occured most\n",
    "print(unique_variations.head(10))"
   ]
  },
  {
   "cell_type": "code",
   "execution_count": 367,
   "id": "b063370a",
   "metadata": {},
   "outputs": [],
   "source": [
    "# one-hot encoding of variation feature.\n",
    "variation_vectorizer = CountVectorizer()\n",
    "train_variation_feature_onehotCoding = variation_vectorizer.fit_transform(train_df['Variation'])\n",
    "test_variation_feature_onehotCoding = variation_vectorizer.transform(test_df['Variation'])\n",
    "cv_variation_feature_onehotCoding = variation_vectorizer.transform(cv_df['Variation'])"
   ]
  },
  {
   "cell_type": "markdown",
   "id": "02c90c46",
   "metadata": {},
   "source": [
    "# generate response encoding for the same."
   ]
  },
  {
   "cell_type": "code",
   "execution_count": 369,
   "id": "c4cfdc08",
   "metadata": {},
   "outputs": [],
   "source": [
    "# alpha is used for laplace smoothing\n",
    "alpha = 1\n",
    "# train gene feature\n",
    "train_variation_feature_responseCoding = np.array(get_gv_feature(alpha, \"Variation\", train_df))\n",
    "# test gene feature\n",
    "test_variation_feature_responseCoding = np.array(get_gv_feature(alpha, \"Variation\", test_df))\n",
    "# cross validation gene feature\n",
    "cv_variation_feature_responseCoding = np.array(get_gv_feature(alpha, \"Variation\", cv_df))"
   ]
  },
  {
   "cell_type": "code",
   "execution_count": 370,
   "id": "1082e0c9",
   "metadata": {},
   "outputs": [
    {
     "data": {
      "text/plain": [
       "array([[0.10989011, 0.10989011, 0.10989011, ..., 0.12087912, 0.10989011,\n",
       "        0.10989011],\n",
       "       [0.12087912, 0.10989011, 0.10989011, ..., 0.10989011, 0.10989011,\n",
       "        0.10989011],\n",
       "       [0.10989011, 0.10989011, 0.10989011, ..., 0.10989011, 0.10989011,\n",
       "        0.10989011],\n",
       "       ...,\n",
       "       [0.10989011, 0.10989011, 0.10989011, ..., 0.12087912, 0.10989011,\n",
       "        0.10989011],\n",
       "       [0.12087912, 0.10989011, 0.10989011, ..., 0.10989011, 0.10989011,\n",
       "        0.10989011],\n",
       "       [0.10989011, 0.10989011, 0.10989011, ..., 0.10989011, 0.10989011,\n",
       "        0.10989011]])"
      ]
     },
     "execution_count": 370,
     "metadata": {},
     "output_type": "execute_result"
    }
   ],
   "source": [
    "train_variation_feature_responseCoding"
   ]
  },
  {
   "cell_type": "code",
   "execution_count": 371,
   "id": "0aecabc5",
   "metadata": {},
   "outputs": [],
   "source": [
    "# We need a hyperparemeter for SGD classifier.\n",
    "alpha = [10 ** x for x in range(-5, 1)]"
   ]
  },
  {
   "cell_type": "code",
   "execution_count": 372,
   "id": "96d4ea6a",
   "metadata": {},
   "outputs": [
    {
     "name": "stdout",
     "output_type": "stream",
     "text": [
      "For values of alpha =  1e-05 The log loss is: 1.7174306314753098\n",
      "For values of alpha =  0.0001 The log loss is: 1.7092747431078554\n",
      "For values of alpha =  0.001 The log loss is: 1.7121301170237329\n",
      "For values of alpha =  0.01 The log loss is: 1.7232883050975352\n",
      "For values of alpha =  0.1 The log loss is: 1.730996799734576\n",
      "For values of alpha =  1 The log loss is: 1.7318860336850954\n"
     ]
    }
   ],
   "source": [
    "cv_log_error_array=[]\n",
    "for i in alpha:\n",
    "    clf = SGDClassifier(alpha=i, penalty='l2', loss='log', random_state=42)\n",
    "    clf.fit(train_variation_feature_onehotCoding, y_train)\n",
    "    \n",
    "    sig_clf = CalibratedClassifierCV(clf, method=\"sigmoid\")\n",
    "    sig_clf.fit(train_variation_feature_onehotCoding, y_train)\n",
    "    predict_y = sig_clf.predict_proba(cv_variation_feature_onehotCoding)\n",
    "    \n",
    "    cv_log_error_array.append(log_loss(y_cv, predict_y, labels=clf.classes_, eps=1e-15))\n",
    "    print('For values of alpha = ', i, \"The log loss is:\",log_loss(y_cv, predict_y, labels=clf.classes_, eps=1e-15))"
   ]
  },
  {
   "cell_type": "code",
   "execution_count": 373,
   "id": "3d40fb7c",
   "metadata": {},
   "outputs": [
    {
     "data": {
      "text/plain": [
       "[<matplotlib.lines.Line2D at 0x17b4806f100>]"
      ]
     },
     "execution_count": 373,
     "metadata": {},
     "output_type": "execute_result"
    },
    {
     "data": {
      "image/png": "[encoded data removed]",
      "text/plain": [
       "<Figure size 432x288 with 1 Axes>"
      ]
     },
     "metadata": {},
     "output_type": "display_data"
    }
   ],
   "source": [
    "fig, ax = plt.subplots()\n",
    "ax.plot(alpha, cv_log_error_array,c='g')"
   ]
  },
  {
   "cell_type": "code",
   "execution_count": 374,
   "id": "18e090db",
   "metadata": {},
   "outputs": [
    {
     "name": "stdout",
     "output_type": "stream",
     "text": [
      "For values of best alpha =  0.0001 The train log loss is: 0.6616440911704836\n",
      "For values of best alpha =  0.0001 The cross validation log loss is: 1.7092747431078554\n",
      "For values of best alpha =  0.0001 The test log loss is: 1.6913816832481996\n"
     ]
    }
   ],
   "source": [
    "best_alpha = np.argmin(cv_log_error_array)\n",
    "clf = SGDClassifier(alpha=alpha[best_alpha], penalty='l2', loss='log', random_state=42)\n",
    "clf.fit(train_variation_feature_onehotCoding, y_train)\n",
    "sig_clf = CalibratedClassifierCV(clf, method=\"sigmoid\")\n",
    "sig_clf.fit(train_variation_feature_onehotCoding, y_train)\n",
    "\n",
    "predict_y = sig_clf.predict_proba(train_variation_feature_onehotCoding)\n",
    "print('For values of best alpha = ', alpha[best_alpha], \"The train log loss is:\",log_loss(y_train, predict_y, labels=clf.classes_, eps=1e-15))\n",
    "predict_y = sig_clf.predict_proba(cv_variation_feature_onehotCoding)\n",
    "print('For values of best alpha = ', alpha[best_alpha], \"The cross validation log loss is:\",log_loss(y_cv, predict_y, labels=clf.classes_, eps=1e-15))\n",
    "predict_y = sig_clf.predict_proba(test_variation_feature_onehotCoding)\n",
    "print('For values of best alpha = ', alpha[best_alpha], \"The test log loss is:\",log_loss(y_test, predict_y, labels=clf.classes_, eps=1e-15))"
   ]
  },
  {
   "cell_type": "markdown",
   "id": "d39f2b67",
   "metadata": {},
   "source": [
    "* Log loss on Cross Validation Data using Random Model 2.522525704969488\n",
    "* Log loss on Test Data using Random Model 2.4764028868826875"
   ]
  },
  {
   "cell_type": "markdown",
   "id": "c7c683b5",
   "metadata": {},
   "source": [
    "# Evaluating Text column"
   ]
  },
  {
   "cell_type": "code",
   "execution_count": 376,
   "id": "ec0be04e",
   "metadata": {},
   "outputs": [],
   "source": [
    "def extract_dictionary_paddle(cls_text):\n",
    "    dictionary = defaultdict(int)\n",
    "    for index, row in cls_text.iterrows():\n",
    "        for word in row['TEXT'].split():\n",
    "            dictionary[word] +=1\n",
    "    return dictionary"
   ]
  },
  {
   "cell_type": "code",
   "execution_count": 423,
   "id": "05a71860",
   "metadata": {},
   "outputs": [
    {
     "data": {
      "text/plain": [
       "1657"
      ]
     },
     "execution_count": 423,
     "metadata": {},
     "output_type": "execute_result"
    }
   ],
   "source": [
    "#dict_list[0]\n",
    "'''\n",
    "{'tumor': 7941,\n",
    "             'suppressor': 1657,\n",
    "             'p53': 12977,\n",
    "             'dependent': 2163}\n",
    "'''\n",
    "# dict_list[0].get('suppressor')\n",
    "# 1657\n",
    "# number of times class i occur in dict_list[]"
   ]
  },
  {
   "cell_type": "code",
   "execution_count": 418,
   "id": "9737f1ec",
   "metadata": {},
   "outputs": [
    {
     "data": {
      "text/html": [
       "<div>\n",
       "<style scoped>\n",
       "    .dataframe tbody tr th:only-of-type {\n",
       "        vertical-align: middle;\n",
       "    }\n",
       "\n",
       "    .dataframe tbody tr th {\n",
       "        vertical-align: top;\n",
       "    }\n",
       "\n",
       "    .dataframe thead th {\n",
       "        text-align: right;\n",
       "    }\n",
       "</style>\n",
       "<table border=\"1\" class=\"dataframe\">\n",
       "  <thead>\n",
       "    <tr style=\"text-align: right;\">\n",
       "      <th></th>\n",
       "      <th>ID</th>\n",
       "      <th>Gene</th>\n",
       "      <th>Variation</th>\n",
       "      <th>Class</th>\n",
       "      <th>TEXT</th>\n",
       "    </tr>\n",
       "  </thead>\n",
       "  <tbody>\n",
       "    <tr>\n",
       "      <th>865</th>\n",
       "      <td>865.0</td>\n",
       "      <td>ERG</td>\n",
       "      <td>EWSR1-ERG_Fusion</td>\n",
       "      <td>7.0</td>\n",
       "      <td>sarcomas constitute aggressive adult childhood...</td>\n",
       "    </tr>\n",
       "    <tr>\n",
       "      <th>468</th>\n",
       "      <td>468.0</td>\n",
       "      <td>TP53</td>\n",
       "      <td>K291Q</td>\n",
       "      <td>1.0</td>\n",
       "      <td>tumor suppressor p53 dependent apoptosis thoug...</td>\n",
       "    </tr>\n",
       "    <tr>\n",
       "      <th>696</th>\n",
       "      <td>696.0</td>\n",
       "      <td>CDKN2B</td>\n",
       "      <td>Hypermethylation</td>\n",
       "      <td>4.0</td>\n",
       "      <td>multiple myeloma mm incurable plasma cell neop...</td>\n",
       "    </tr>\n",
       "    <tr>\n",
       "      <th>504</th>\n",
       "      <td>504.0</td>\n",
       "      <td>TP53</td>\n",
       "      <td>R282W</td>\n",
       "      <td>1.0</td>\n",
       "      <td>many p53 missense mutations possess dominant n...</td>\n",
       "    </tr>\n",
       "    <tr>\n",
       "      <th>1439</th>\n",
       "      <td>1439.0</td>\n",
       "      <td>SPOP</td>\n",
       "      <td>S119N</td>\n",
       "      <td>4.0</td>\n",
       "      <td>largest e3 ligase subfamily cul3 binds btb dom...</td>\n",
       "    </tr>\n",
       "  </tbody>\n",
       "</table>\n",
       "</div>"
      ],
      "text/plain": [
       "          ID    Gene  ... Class                                               TEXT\n",
       "865    865.0     ERG  ...   7.0  sarcomas constitute aggressive adult childhood...\n",
       "468    468.0    TP53  ...   1.0  tumor suppressor p53 dependent apoptosis thoug...\n",
       "696    696.0  CDKN2B  ...   4.0  multiple myeloma mm incurable plasma cell neop...\n",
       "504    504.0    TP53  ...   1.0  many p53 missense mutations possess dominant n...\n",
       "1439  1439.0    SPOP  ...   4.0  largest e3 ligase subfamily cul3 binds btb dom...\n",
       "\n",
       "[5 rows x 5 columns]"
      ]
     },
     "execution_count": 418,
     "metadata": {},
     "output_type": "execute_result"
    }
   ],
   "source": [
    "train_df.head(5)"
   ]
  },
  {
   "cell_type": "code",
   "execution_count": 377,
   "id": "92c02e54",
   "metadata": {},
   "outputs": [],
   "source": [
    "import math\n",
    "def get_text_responsecoding(df):\n",
    "    text_feature_responseCoding = np.zeros((df.shape[0],9))\n",
    "    for i in range(0,9):\n",
    "        row_index = 0\n",
    "        for index, row in df.iterrows():\n",
    "            sum_prob = 0\n",
    "            for word in row['TEXT'].split():\n",
    "                #print(word)\n",
    "                sum_prob += math.log(((dict_list[i].get(word,0)+10 )/(total_dict.get(word,0)+90)))\n",
    "            text_feature_responseCoding[row_index][i] = math.exp(sum_prob/len(row['TEXT'].split()))\n",
    "            row_index += 1\n",
    "    return text_feature_responseCoding"
   ]
  },
  {
   "cell_type": "code",
   "execution_count": 425,
   "id": "30450894",
   "metadata": {},
   "outputs": [],
   "source": [
    "#get_text_responsecoding(train_df)"
   ]
  },
  {
   "cell_type": "code",
   "execution_count": null,
   "id": "2c9c4ff2",
   "metadata": {},
   "outputs": [],
   "source": []
  },
  {
   "cell_type": "code",
   "execution_count": 389,
   "id": "f9d069c0",
   "metadata": {},
   "outputs": [
    {
     "name": "stdout",
     "output_type": "stream",
     "text": [
      "Total number of unique words in train data : 53511\n"
     ]
    }
   ],
   "source": [
    "# building a CountVectorizer with all the words that occured minimum 3 times in train data\n",
    "text_vectorizer = CountVectorizer(min_df=3)\n",
    "#stored elements in Compressed Sparse Row format\n",
    "train_text_feature_onehotCoding = text_vectorizer.fit_transform(train_df['TEXT'])\n",
    "#train_text_feature_onehotCoding\n",
    "# # getting all the feature names (words)\n",
    "# before this line we follow the usual way \n",
    "#-----------------------------------------\n",
    "# this part is new \n",
    "train_text_features= text_vectorizer.get_feature_names()\n",
    "#train_text_features\n",
    "# # train_text_feature_onehotCoding.sum(axis=0).A1 will sum every row and returns (1*number of features) vector\n",
    "train_text_fea_counts = train_text_feature_onehotCoding.sum(axis=0).A1\n",
    "# # zip(list(text_features),text_fea_counts) will zip a word with its number of times it occured\n",
    "text_fea_dict = dict(zip(list(train_text_features),train_text_fea_counts))\n",
    "'''\n",
    "text_fea_dict = {word : count}\n",
    "{'00': 2472,\n",
    " '000': 5703,\n",
    " '00000001': 6,\n",
    " '0000001': 4,\n",
    " '000001': 18,\n",
    " }\n",
    "'''\n",
    "print(\"Total number of unique words in train data :\", len(train_text_features))"
   ]
  },
  {
   "cell_type": "code",
   "execution_count": 388,
   "id": "fdacd764",
   "metadata": {},
   "outputs": [
    {
     "data": {
      "text/html": [
       "<div>\n",
       "<style scoped>\n",
       "    .dataframe tbody tr th:only-of-type {\n",
       "        vertical-align: middle;\n",
       "    }\n",
       "\n",
       "    .dataframe tbody tr th {\n",
       "        vertical-align: top;\n",
       "    }\n",
       "\n",
       "    .dataframe thead th {\n",
       "        text-align: right;\n",
       "    }\n",
       "</style>\n",
       "<table border=\"1\" class=\"dataframe\">\n",
       "  <thead>\n",
       "    <tr style=\"text-align: right;\">\n",
       "      <th></th>\n",
       "      <th>ID</th>\n",
       "      <th>Gene</th>\n",
       "      <th>Variation</th>\n",
       "      <th>Class</th>\n",
       "      <th>TEXT</th>\n",
       "    </tr>\n",
       "  </thead>\n",
       "  <tbody>\n",
       "    <tr>\n",
       "      <th>0</th>\n",
       "      <td>0.0</td>\n",
       "      <td>FAM58A</td>\n",
       "      <td>Truncating_Mutations</td>\n",
       "      <td>1.0</td>\n",
       "      <td>cyclin dependent kinases cdks regulate variety...</td>\n",
       "    </tr>\n",
       "    <tr>\n",
       "      <th>1</th>\n",
       "      <td>1.0</td>\n",
       "      <td>CBL</td>\n",
       "      <td>W802*</td>\n",
       "      <td>2.0</td>\n",
       "      <td>abstract background non small cell lung cancer...</td>\n",
       "    </tr>\n",
       "    <tr>\n",
       "      <th>2</th>\n",
       "      <td>2.0</td>\n",
       "      <td>CBL</td>\n",
       "      <td>Q249E</td>\n",
       "      <td>2.0</td>\n",
       "      <td>abstract background non small cell lung cancer...</td>\n",
       "    </tr>\n",
       "    <tr>\n",
       "      <th>3</th>\n",
       "      <td>3.0</td>\n",
       "      <td>CBL</td>\n",
       "      <td>N454D</td>\n",
       "      <td>3.0</td>\n",
       "      <td>recent evidence demonstrated acquired uniparen...</td>\n",
       "    </tr>\n",
       "    <tr>\n",
       "      <th>4</th>\n",
       "      <td>4.0</td>\n",
       "      <td>CBL</td>\n",
       "      <td>L399V</td>\n",
       "      <td>4.0</td>\n",
       "      <td>oncogenic mutations monomeric casitas b lineag...</td>\n",
       "    </tr>\n",
       "    <tr>\n",
       "      <th>...</th>\n",
       "      <td>...</td>\n",
       "      <td>...</td>\n",
       "      <td>...</td>\n",
       "      <td>...</td>\n",
       "      <td>...</td>\n",
       "    </tr>\n",
       "    <tr>\n",
       "      <th>3316</th>\n",
       "      <td>3316.0</td>\n",
       "      <td>RUNX1</td>\n",
       "      <td>D171N</td>\n",
       "      <td>4.0</td>\n",
       "      <td>introduction myelodysplastic syndromes mds het...</td>\n",
       "    </tr>\n",
       "    <tr>\n",
       "      <th>3317</th>\n",
       "      <td>3317.0</td>\n",
       "      <td>RUNX1</td>\n",
       "      <td>A122*</td>\n",
       "      <td>1.0</td>\n",
       "      <td>introduction myelodysplastic syndromes mds het...</td>\n",
       "    </tr>\n",
       "    <tr>\n",
       "      <th>3318</th>\n",
       "      <td>3318.0</td>\n",
       "      <td>RUNX1</td>\n",
       "      <td>Fusions</td>\n",
       "      <td>1.0</td>\n",
       "      <td>runt related transcription factor 1 gene runx1...</td>\n",
       "    </tr>\n",
       "    <tr>\n",
       "      <th>3319</th>\n",
       "      <td>3319.0</td>\n",
       "      <td>RUNX1</td>\n",
       "      <td>R80C</td>\n",
       "      <td>4.0</td>\n",
       "      <td>runx1 aml1 gene frequent target chromosomal tr...</td>\n",
       "    </tr>\n",
       "    <tr>\n",
       "      <th>3320</th>\n",
       "      <td>3320.0</td>\n",
       "      <td>RUNX1</td>\n",
       "      <td>K83E</td>\n",
       "      <td>4.0</td>\n",
       "      <td>frequent mutations associated leukemia recurre...</td>\n",
       "    </tr>\n",
       "  </tbody>\n",
       "</table>\n",
       "<p>3321 rows × 5 columns</p>\n",
       "</div>"
      ],
      "text/plain": [
       "          ID    Gene  ... Class                                               TEXT\n",
       "0        0.0  FAM58A  ...   1.0  cyclin dependent kinases cdks regulate variety...\n",
       "1        1.0     CBL  ...   2.0  abstract background non small cell lung cancer...\n",
       "2        2.0     CBL  ...   2.0  abstract background non small cell lung cancer...\n",
       "3        3.0     CBL  ...   3.0  recent evidence demonstrated acquired uniparen...\n",
       "4        4.0     CBL  ...   4.0  oncogenic mutations monomeric casitas b lineag...\n",
       "...      ...     ...  ...   ...                                                ...\n",
       "3316  3316.0   RUNX1  ...   4.0  introduction myelodysplastic syndromes mds het...\n",
       "3317  3317.0   RUNX1  ...   1.0  introduction myelodysplastic syndromes mds het...\n",
       "3318  3318.0   RUNX1  ...   1.0  runt related transcription factor 1 gene runx1...\n",
       "3319  3319.0   RUNX1  ...   4.0  runx1 aml1 gene frequent target chromosomal tr...\n",
       "3320  3320.0   RUNX1  ...   4.0  frequent mutations associated leukemia recurre...\n",
       "\n",
       "[3321 rows x 5 columns]"
      ]
     },
     "execution_count": 388,
     "metadata": {},
     "output_type": "execute_result"
    }
   ],
   "source": [
    "result"
   ]
  },
  {
   "cell_type": "code",
   "execution_count": 400,
   "id": "c72ea71f",
   "metadata": {},
   "outputs": [],
   "source": [
    "dict_list = []\n",
    "# dict_list =[] contains 9 dictoinaries each corresponds to a class\n",
    "for i in range(1,10):\n",
    "    cls_text = train_df[train_df['Class']==i]\n",
    "    #cls_text\n",
    "    # build a word dict based on the words in that class\n",
    "    dict_list.append(extract_dictionary_paddle(cls_text))\n",
    "    # append it to dict_list\n",
    "total_dict = extract_dictionary_paddle(train_df)"
   ]
  },
  {
   "cell_type": "code",
   "execution_count": 396,
   "id": "84ea8645",
   "metadata": {},
   "outputs": [
    {
     "data": {
      "text/plain": [
       "'\\n\\tID\\t   Gene\\t Variation\\tClass\\tTEXT\\n468\\t468.0\\tTP53\\tK291Q\\t1.0\\t    tumor suppressor p53 dependent apoptosis thoug...\\n504\\t504.0\\tTP53\\tR282W\\t1.0\\t    many p53 missense mutations possess dominant n...\\n'"
      ]
     },
     "execution_count": 396,
     "metadata": {},
     "output_type": "execute_result"
    }
   ],
   "source": [
    "# train_df[train_df['Class']==1]\n",
    "'''\n",
    "\tID\t   Gene\t Variation\tClass\tTEXT\n",
    "468\t468.0\tTP53\tK291Q\t1.0\t    tumor suppressor p53 dependent apoptosis thoug...\n",
    "504\t504.0\tTP53\tR282W\t1.0\t    many p53 missense mutations possess dominant n...\n",
    "'''\n"
   ]
  },
  {
   "cell_type": "code",
   "execution_count": 395,
   "id": "5d9ee0ce",
   "metadata": {},
   "outputs": [
    {
     "data": {
      "text/plain": [
       "\"\\n'tumor': 7941,\\n'suppressor': 1657,\\n'p53': 12977\\n\""
      ]
     },
     "execution_count": 395,
     "metadata": {},
     "output_type": "execute_result"
    }
   ],
   "source": [
    "# cls_text = train_df[train_df['Class']==1]\n",
    "# extract_dictionary_paddle(cls_text)\n",
    "'''\n",
    "'tumor': 7941,\n",
    "'suppressor': 1657,\n",
    "'p53': 12977\n",
    "'''"
   ]
  },
  {
   "cell_type": "code",
   "execution_count": 403,
   "id": "718a1dc4",
   "metadata": {},
   "outputs": [
    {
     "data": {
      "text/plain": [
       "\"\\ntext_fea_dict = {word : count}\\n{'00': 2472,\\n '000': 5703,\\n '00000001': 6,\\n '0000001': 4,\\n '000001': 18,\\n }\\n\""
      ]
     },
     "execution_count": 403,
     "metadata": {},
     "output_type": "execute_result"
    }
   ],
   "source": [
    "'''\n",
    "text_fea_dict = {word : count}\n",
    "{'00': 2472,\n",
    " '000': 5703,\n",
    " '00000001': 6,\n",
    " '0000001': 4,\n",
    " '000001': 18,\n",
    " }\n",
    "'''\n",
    "#train_text_features : Coontain the word part "
   ]
  },
  {
   "cell_type": "code",
   "execution_count": 426,
   "id": "1488d679",
   "metadata": {},
   "outputs": [],
   "source": [
    "#response coding of text features\n",
    "train_text_feature_responseCoding  = get_text_responsecoding(train_df)\n",
    "test_text_feature_responseCoding  = get_text_responsecoding(test_df)\n",
    "cv_text_feature_responseCoding  = get_text_responsecoding(cv_df)"
   ]
  },
  {
   "cell_type": "code",
   "execution_count": 427,
   "id": "b7d53d37",
   "metadata": {},
   "outputs": [],
   "source": [
    "# we convert each row values such that they sum to 1  \n",
    "train_text_feature_responseCoding = (train_text_feature_responseCoding.T/train_text_feature_responseCoding.sum(axis=1)).T\n",
    "test_text_feature_responseCoding = (test_text_feature_responseCoding.T/test_text_feature_responseCoding.sum(axis=1)).T\n",
    "cv_text_feature_responseCoding = (cv_text_feature_responseCoding.T/cv_text_feature_responseCoding.sum(axis=1)).T"
   ]
  },
  {
   "cell_type": "code",
   "execution_count": 430,
   "id": "7d54fcd7",
   "metadata": {},
   "outputs": [],
   "source": [
    "# don't forget to normalize every feature\n",
    "train_text_feature_onehotCoding = normalize(train_text_feature_onehotCoding, axis=0)\n",
    "\n",
    "# we use the same vectorizer that was trained on train data\n",
    "test_text_feature_onehotCoding = text_vectorizer.transform(test_df['TEXT'])\n",
    "# don't forget to normalize every feature\n",
    "test_text_feature_onehotCoding = normalize(test_text_feature_onehotCoding, axis=0)\n",
    "\n",
    "# we use the same vectorizer that was trained on train data\n",
    "cv_text_feature_onehotCoding = text_vectorizer.transform(cv_df['TEXT'])\n",
    "# don't forget to normalize every feature\n",
    "cv_text_feature_onehotCoding = normalize(cv_text_feature_onehotCoding, axis=0)"
   ]
  },
  {
   "cell_type": "code",
   "execution_count": null,
   "id": "c371891c",
   "metadata": {},
   "outputs": [],
   "source": []
  },
  {
   "cell_type": "code",
   "execution_count": 431,
   "id": "c8d81f4b",
   "metadata": {},
   "outputs": [],
   "source": [
    "sorted_text_fea_dict = dict(sorted(text_fea_dict.items(), key=lambda x: x[1] , reverse=True))\n",
    "sorted_text_occur = np.array(list(sorted_text_fea_dict.values()))"
   ]
  },
  {
   "cell_type": "code",
   "execution_count": 434,
   "id": "809a24ac",
   "metadata": {},
   "outputs": [
    {
     "name": "stdout",
     "output_type": "stream",
     "text": [
      "Counter({3: 5658, 4: 3561, 5: 2996, 6: 2818, 8: 2290, 7: 1716, 10: 1617, 9: 1584, 12: 1366, 13: 1121, 11: 975, 16: 894, 14: 841, 15: 804, 18: 769, 21: 588, 20: 582, 17: 529, 24: 517, 26: 510, 19: 444, 27: 405, 25: 399, 22: 393, 30: 392, 23: 365, 28: 332, 41: 326, 36: 297, 29: 283, 32: 276, 53: 259, 31: 247, 35: 244, 39: 243, 40: 234, 33: 234, 34: 226, 48: 213, 42: 212, 38: 209, 37: 207, 45: 194, 44: 192, 46: 187, 50: 174, 49: 158, 56: 148, 43: 148, 54: 146, 55: 145, 51: 135, 47: 135, 63: 134, 60: 133, 57: 127, 65: 126, 59: 126, 52: 121, 69: 119, 58: 117, 72: 116, 64: 116, 88: 106, 61: 98, 66: 94, 80: 93, 70: 92, 71: 91, 67: 91, 78: 88, 62: 87, 74: 83, 73: 83, 90: 78, 68: 78, 86: 74, 84: 74, 79: 73, 81: 72, 82: 71, 89: 70, 104: 69, 87: 69, 75: 69, 77: 68, 76: 68, 93: 66, 106: 64, 99: 63, 91: 62, 95: 61, 110: 60, 105: 59, 100: 59, 92: 59, 96: 58, 112: 55, 101: 55, 94: 55, 107: 54, 108: 53, 97: 53, 132: 50, 114: 49, 102: 49, 83: 49, 127: 48, 117: 47, 98: 47, 85: 47, 144: 46, 138: 45, 115: 45, 113: 45, 111: 45, 120: 43, 130: 42, 103: 42, 134: 41, 123: 41, 118: 41, 133: 40, 109: 39, 145: 38, 139: 38, 126: 38, 150: 37, 122: 37, 151: 36, 142: 36, 131: 36, 116: 36, 125: 35, 119: 35, 148: 34, 156: 33, 137: 33, 163: 32, 160: 32, 141: 32, 124: 32, 164: 31, 161: 31, 152: 31, 135: 31, 168: 30, 146: 30, 179: 29, 169: 29, 167: 29, 154: 29, 153: 29, 240: 28, 176: 28, 147: 28, 143: 28, 129: 28, 216: 27, 158: 27, 157: 27, 121: 27, 208: 26, 189: 26, 159: 26, 149: 26, 140: 26, 213: 25, 178: 25, 175: 25, 165: 25, 162: 25, 136: 25, 128: 25, 224: 24, 200: 24, 187: 24, 184: 24, 180: 24, 171: 24, 166: 24, 170: 23, 246: 22, 232: 22, 220: 22, 207: 22, 195: 22, 185: 22, 255: 21, 196: 21, 297: 20, 239: 20, 219: 20, 210: 20, 206: 20, 203: 20, 198: 20, 188: 20, 182: 20, 287: 19, 280: 19, 230: 19, 221: 19, 212: 19, 205: 19, 197: 19, 193: 19, 190: 19, 183: 19, 181: 19, 177: 19, 174: 19, 308: 18, 265: 18, 236: 18, 228: 18, 194: 18, 173: 18, 268: 17, 192: 17, 186: 17, 172: 17, 318: 16, 288: 16, 277: 16, 276: 16, 266: 16, 233: 16, 217: 16, 215: 16, 214: 16, 209: 16, 204: 16, 202: 16, 199: 16, 328: 15, 292: 15, 275: 15, 267: 15, 261: 15, 258: 15, 251: 15, 237: 15, 218: 15, 211: 15, 155: 15, 336: 14, 325: 14, 299: 14, 285: 14, 282: 14, 257: 14, 247: 14, 243: 14, 235: 14, 229: 14, 227: 14, 225: 14, 222: 14, 191: 14, 364: 13, 330: 13, 289: 13, 284: 13, 274: 13, 271: 13, 270: 13, 260: 13, 253: 13, 252: 13, 250: 13, 249: 13, 248: 13, 234: 13, 226: 13, 201: 13, 550: 12, 381: 12, 349: 12, 339: 12, 338: 12, 331: 12, 326: 12, 320: 12, 307: 12, 300: 12, 281: 12, 278: 12, 272: 12, 241: 12, 497: 11, 396: 11, 395: 11, 378: 11, 377: 11, 374: 11, 372: 11, 371: 11, 370: 11, 360: 11, 350: 11, 345: 11, 341: 11, 337: 11, 323: 11, 313: 11, 279: 11, 273: 11, 263: 11, 238: 11, 569: 10, 423: 10, 417: 10, 400: 10, 368: 10, 355: 10, 348: 10, 332: 10, 317: 10, 314: 10, 310: 10, 303: 10, 296: 10, 295: 10, 293: 10, 290: 10, 283: 10, 269: 10, 264: 10, 223: 10, 525: 9, 501: 9, 498: 9, 459: 9, 457: 9, 447: 9, 446: 9, 442: 9, 441: 9, 431: 9, 429: 9, 428: 9, 405: 9, 392: 9, 343: 9, 334: 9, 329: 9, 321: 9, 316: 9, 312: 9, 311: 9, 306: 9, 291: 9, 286: 9, 262: 9, 244: 9, 242: 9, 732: 8, 608: 8, 554: 8, 521: 8, 518: 8, 492: 8, 473: 8, 456: 8, 444: 8, 434: 8, 425: 8, 416: 8, 409: 8, 397: 8, 389: 8, 385: 8, 380: 8, 375: 8, 367: 8, 363: 8, 347: 8, 333: 8, 315: 8, 309: 8, 304: 8, 259: 8, 256: 8, 917: 7, 753: 7, 671: 7, 647: 7, 622: 7, 594: 7, 592: 7, 587: 7, 583: 7, 576: 7, 568: 7, 538: 7, 536: 7, 527: 7, 517: 7, 510: 7, 507: 7, 506: 7, 495: 7, 477: 7, 452: 7, 448: 7, 445: 7, 440: 7, 430: 7, 424: 7, 414: 7, 410: 7, 406: 7, 399: 7, 393: 7, 391: 7, 388: 7, 387: 7, 383: 7, 382: 7, 379: 7, 369: 7, 366: 7, 361: 7, 357: 7, 322: 7, 301: 7, 298: 7, 294: 7, 254: 7, 245: 7, 231: 7, 1083: 6, 1073: 6, 955: 6, 819: 6, 780: 6, 749: 6, 707: 6, 676: 6, 672: 6, 643: 6, 604: 6, 603: 6, 589: 6, 573: 6, 522: 6, 485: 6, 481: 6, 465: 6, 460: 6, 458: 6, 433: 6, 426: 6, 403: 6, 390: 6, 386: 6, 376: 6, 365: 6, 358: 6, 352: 6, 344: 6, 340: 6, 324: 6, 305: 6, 1459: 5, 1176: 5, 1125: 5, 973: 5, 923: 5, 907: 5, 889: 5, 884: 5, 827: 5, 795: 5, 762: 5, 757: 5, 737: 5, 733: 5, 725: 5, 715: 5, 710: 5, 689: 5, 669: 5, 651: 5, 648: 5, 644: 5, 641: 5, 637: 5, 624: 5, 620: 5, 619: 5, 607: 5, 595: 5, 586: 5, 578: 5, 563: 5, 561: 5, 555: 5, 551: 5, 548: 5, 547: 5, 519: 5, 505: 5, 500: 5, 494: 5, 486: 5, 484: 5, 480: 5, 474: 5, 467: 5, 466: 5, 463: 5, 455: 5, 454: 5, 450: 5, 443: 5, 438: 5, 436: 5, 435: 5, 432: 5, 427: 5, 415: 5, 413: 5, 402: 5, 401: 5, 398: 5, 394: 5, 362: 5, 359: 5, 354: 5, 335: 5, 302: 5, 2055: 4, 1874: 4, 1799: 4, 1784: 4, 1646: 4, 1575: 4, 1383: 4, 1350: 4, 1328: 4, 1321: 4, 1318: 4, 1297: 4, 1262: 4, 1205: 4, 1187: 4, 1146: 4, 1130: 4, 1100: 4, 1098: 4, 1037: 4, 997: 4, 993: 4, 980: 4, 974: 4, 935: 4, 905: 4, 887: 4, 882: 4, 878: 4, 873: 4, 867: 4, 866: 4, 862: 4, 853: 4, 834: 4, 818: 4, 817: 4, 808: 4, 803: 4, 799: 4, 794: 4, 792: 4, 786: 4, 774: 4, 769: 4, 744: 4, 741: 4, 716: 4, 692: 4, 687: 4, 686: 4, 677: 4, 675: 4, 666: 4, 663: 4, 654: 4, 650: 4, 649: 4, 640: 4, 634: 4, 633: 4, 632: 4, 628: 4, 626: 4, 621: 4, 616: 4, 614: 4, 611: 4, 593: 4, 577: 4, 567: 4, 564: 4, 545: 4, 544: 4, 543: 4, 533: 4, 529: 4, 516: 4, 515: 4, 508: 4, 503: 4, 502: 4, 493: 4, 490: 4, 487: 4, 479: 4, 476: 4, 471: 4, 468: 4, 464: 4, 462: 4, 461: 4, 449: 4, 437: 4, 421: 4, 411: 4, 373: 4, 353: 4, 351: 4, 346: 4, 342: 4, 327: 4, 319: 4, 4016: 3, 3624: 3, 3451: 3, 3347: 3, 2979: 3, 2651: 3, 2562: 3, 2557: 3, 2527: 3, 2500: 3, 2495: 3, 2421: 3, 2379: 3, 2324: 3, 2228: 3, 2186: 3, 2119: 3, 2067: 3, 2046: 3, 1867: 3, 1856: 3, 1835: 3, 1798: 3, 1777: 3, 1757: 3, 1735: 3, 1730: 3, 1724: 3, 1709: 3, 1678: 3, 1633: 3, 1632: 3, 1621: 3, 1589: 3, 1580: 3, 1567: 3, 1559: 3, 1525: 3, 1509: 3, 1495: 3, 1473: 3, 1414: 3, 1404: 3, 1403: 3, 1402: 3, 1396: 3, 1391: 3, 1380: 3, 1378: 3, 1366: 3, 1362: 3, 1319: 3, 1293: 3, 1288: 3, 1285: 3, 1283: 3, 1281: 3, 1272: 3, 1271: 3, 1267: 3, 1263: 3, 1261: 3, 1255: 3, 1243: 3, 1237: 3, 1231: 3, 1199: 3, 1192: 3, 1181: 3, 1170: 3, 1167: 3, 1165: 3, 1145: 3, 1122: 3, 1104: 3, 1089: 3, 1077: 3, 1075: 3, 1069: 3, 1068: 3, 1066: 3, 1064: 3, 1062: 3, 1058: 3, 1042: 3, 1038: 3, 1035: 3, 1011: 3, 1002: 3, 1000: 3, 990: 3, 987: 3, 977: 3, 969: 3, 959: 3, 957: 3, 952: 3, 951: 3, 947: 3, 939: 3, 933: 3, 926: 3, 915: 3, 909: 3, 899: 3, 898: 3, 893: 3, 888: 3, 883: 3, 880: 3, 877: 3, 876: 3, 874: 3, 865: 3, 863: 3, 857: 3, 850: 3, 848: 3, 847: 3, 843: 3, 835: 3, 828: 3, 822: 3, 816: 3, 809: 3, 793: 3, 782: 3, 777: 3, 775: 3, 771: 3, 768: 3, 766: 3, 764: 3, 760: 3, 759: 3, 758: 3, 751: 3, 747: 3, 739: 3, 736: 3, 724: 3, 723: 3, 721: 3, 713: 3, 712: 3, 705: 3, 701: 3, 697: 3, 693: 3, 691: 3, 690: 3, 685: 3, 684: 3, 679: 3, 674: 3, 673: 3, 670: 3, 667: 3, 665: 3, 664: 3, 661: 3, 660: 3, 659: 3, 658: 3, 656: 3, 646: 3, 642: 3, 639: 3, 635: 3, 629: 3, 625: 3, 615: 3, 609: 3, 606: 3, 605: 3, 602: 3, 598: 3, 588: 3, 584: 3, 582: 3, 581: 3, 579: 3, 575: 3, 574: 3, 572: 3, 571: 3, 566: 3, 565: 3, 562: 3, 559: 3, 558: 3, 556: 3, 553: 3, 542: 3, 541: 3, 535: 3, 534: 3, 532: 3, 528: 3, 526: 3, 520: 3, 511: 3, 499: 3, 496: 3, 491: 3, 489: 3, 488: 3, 478: 3, 475: 3, 472: 3, 451: 3, 439: 3, 422: 3, 418: 3, 412: 3, 408: 3, 384: 3, 356: 3, 12399: 2, 12368: 2, 9195: 2, 7315: 2, 6549: 2, 5536: 2, 5360: 2, 5143: 2, 5104: 2, 4964: 2, 4865: 2, 4359: 2, 4310: 2, 4180: 2, 4057: 2, 3870: 2, 3855: 2, 3773: 2, 3733: 2, 3551: 2, 3540: 2, 3481: 2, 3479: 2, 3458: 2, 3429: 2, 3403: 2, 3357: 2, 3355: 2, 3329: 2, 3325: 2, 3312: 2, 3310: 2, 3303: 2, 3241: 2, 3171: 2, 3156: 2, 3114: 2, 3095: 2, 3044: 2, 2985: 2, 2936: 2, 2902: 2, 2892: 2, 2882: 2, 2863: 2, 2811: 2, 2717: 2, 2700: 2, 2658: 2, 2648: 2, 2634: 2, 2610: 2, 2597: 2, 2571: 2, 2541: 2, 2533: 2, 2516: 2, 2505: 2, 2503: 2, 2497: 2, 2465: 2, 2454: 2, 2450: 2, 2433: 2, 2423: 2, 2419: 2, 2400: 2, 2397: 2, 2363: 2, 2335: 2, 2265: 2, 2237: 2, 2221: 2, 2207: 2, 2199: 2, 2172: 2, 2166: 2, 2160: 2, 2136: 2, 2116: 2, 2087: 2, 2078: 2, 2065: 2, 2058: 2, 2056: 2, 2051: 2, 2035: 2, 2025: 2, 2013: 2, 1997: 2, 1988: 2, 1967: 2, 1961: 2, 1958: 2, 1942: 2, 1933: 2, 1928: 2, 1912: 2, 1904: 2, 1892: 2, 1888: 2, 1871: 2, 1850: 2, 1849: 2, 1813: 2, 1806: 2, 1804: 2, 1791: 2, 1785: 2, 1772: 2, 1765: 2, 1764: 2, 1739: 2, 1738: 2, 1725: 2, 1718: 2, 1701: 2, 1691: 2, 1670: 2, 1669: 2, 1664: 2, 1648: 2, 1645: 2, 1642: 2, 1626: 2, 1625: 2, 1618: 2, 1617: 2, 1616: 2, 1614: 2, 1602: 2, 1598: 2, 1579: 2, 1576: 2, 1574: 2, 1565: 2, 1550: 2, 1549: 2, 1548: 2, 1546: 2, 1542: 2, 1541: 2, 1540: 2, 1539: 2, 1536: 2, 1530: 2, 1526: 2, 1516: 2, 1515: 2, 1501: 2, 1498: 2, 1485: 2, 1482: 2, 1481: 2, 1464: 2, 1454: 2, 1445: 2, 1442: 2, 1440: 2, 1425: 2, 1419: 2, 1386: 2, 1385: 2, 1382: 2, 1377: 2, 1374: 2, 1367: 2, 1363: 2, 1360: 2, 1353: 2, 1346: 2, 1342: 2, 1340: 2, 1339: 2, 1335: 2, 1330: 2, 1325: 2, 1304: 2, 1303: 2, 1298: 2, 1296: 2, 1287: 2, 1286: 2, 1284: 2, 1279: 2, 1278: 2, 1275: 2, 1274: 2, 1265: 2, 1259: 2, 1249: 2, 1246: 2, 1245: 2, 1242: 2, 1235: 2, 1228: 2, 1227: 2, 1226: 2, 1220: 2, 1212: 2, 1211: 2, 1208: 2, 1206: 2, 1202: 2, 1198: 2, 1197: 2, 1195: 2, 1190: 2, 1189: 2, 1185: 2, 1183: 2, 1178: 2, 1157: 2, 1151: 2, 1149: 2, 1139: 2, 1136: 2, 1134: 2, 1132: 2, 1128: 2, 1121: 2, 1118: 2, 1115: 2, 1114: 2, 1113: 2, 1112: 2, 1111: 2, 1110: 2, 1099: 2, 1097: 2, 1093: 2, 1091: 2, 1090: 2, 1088: 2, 1082: 2, 1079: 2, 1072: 2, 1060: 2, 1057: 2, 1053: 2, 1049: 2, 1048: 2, 1045: 2, 1044: 2, 1039: 2, 1036: 2, 1023: 2, 1020: 2, 1019: 2, 1015: 2, 1013: 2, 1012: 2, 1009: 2, 1007: 2, 1006: 2, 1005: 2, 1004: 2, 999: 2, 998: 2, 989: 2, 986: 2, 984: 2, 982: 2, 981: 2, 978: 2, 976: 2, 975: 2, 972: 2, 970: 2, 968: 2, 954: 2, 953: 2, 949: 2, 948: 2, 938: 2, 936: 2, 929: 2, 928: 2, 918: 2, 916: 2, 911: 2, 910: 2, 902: 2, 900: 2, 897: 2, 890: 2, 875: 2, 871: 2, 868: 2, 861: 2, 860: 2, 856: 2, 854: 2, 852: 2, 849: 2, 846: 2, 842: 2, 837: 2, 832: 2, 830: 2, 829: 2, 826: 2, 825: 2, 824: 2, 823: 2, 815: 2, 814: 2, 811: 2, 810: 2, 807: 2, 806: 2, 805: 2, 804: 2, 801: 2, 798: 2, 796: 2, 791: 2, 790: 2, 789: 2, 787: 2, 783: 2, 781: 2, 779: 2, 776: 2, 772: 2, 761: 2, 756: 2, 752: 2, 750: 2, 748: 2, 745: 2, 743: 2, 742: 2, 738: 2, 735: 2, 734: 2, 731: 2, 729: 2, 726: 2, 722: 2, 718: 2, 714: 2, 709: 2, 706: 2, 696: 2, 695: 2, 694: 2, 688: 2, 682: 2, 681: 2, 668: 2, 652: 2, 645: 2, 638: 2, 636: 2, 630: 2, 618: 2, 617: 2, 612: 2, 610: 2, 601: 2, 600: 2, 599: 2, 591: 2, 590: 2, 585: 2, 570: 2, 560: 2, 557: 2, 540: 2, 539: 2, 537: 2, 530: 2, 524: 2, 514: 2, 513: 2, 512: 2, 509: 2, 504: 2, 482: 2, 469: 2, 453: 2, 420: 2, 407: 2, 151189: 1, 121374: 1, 82565: 1, 69136: 1, 68908: 1, 67348: 1, 66713: 1, 63638: 1, 62657: 1, 56721: 1, 55285: 1, 51653: 1, 48831: 1, 47444: 1, 46297: 1, 46217: 1, 44075: 1, 43142: 1, 42628: 1, 41854: 1, 40834: 1, 40323: 1, 40248: 1, 39695: 1, 39043: 1, 38132: 1, 37431: 1, 37346: 1, 36209: 1, 36070: 1, 35114: 1, 34556: 1, 33740: 1, 33459: 1, 32015: 1, 31995: 1, 30098: 1, 28346: 1, 27080: 1, 26656: 1, 26566: 1, 26449: 1, 26384: 1, 26362: 1, 25702: 1, 25521: 1, 25102: 1, 24950: 1, 24657: 1, 24597: 1, 24162: 1, 24139: 1, 24130: 1, 23156: 1, 22961: 1, 22533: 1, 22107: 1, 21763: 1, 21605: 1, 21378: 1, 20813: 1, 20656: 1, 20612: 1, 20487: 1, 20453: 1, 20112: 1, 19728: 1, 19253: 1, 19160: 1, 19098: 1, 19008: 1, 18865: 1, 18817: 1, 18764: 1, 18747: 1, 18529: 1, 18399: 1, 18263: 1, 18232: 1, 18160: 1, 18159: 1, 17994: 1, 17947: 1, 17911: 1, 17741: 1, 17595: 1, 17583: 1, 17557: 1, 17388: 1, 17381: 1, 17370: 1, 17188: 1, 17186: 1, 17166: 1, 17117: 1, 17098: 1, 16882: 1, 16820: 1, 16243: 1, 16119: 1, 16094: 1, 16053: 1, 15872: 1, 15854: 1, 15815: 1, 15648: 1, 15514: 1, 15421: 1, 15416: 1, 15394: 1, 15279: 1, 15087: 1, 15080: 1, 15053: 1, 14966: 1, 14790: 1, 14753: 1, 14663: 1, 14421: 1, 14200: 1, 14144: 1, 14085: 1, 13780: 1, 13737: 1, 13735: 1, 13641: 1, 13453: 1, 13435: 1, 13412: 1, 13334: 1, 13273: 1, 13258: 1, 13233: 1, 13118: 1, 13046: 1, 12997: 1, 12956: 1, 12882: 1, 12868: 1, 12863: 1, 12826: 1, 12784: 1, 12782: 1, 12769: 1, 12725: 1, 12705: 1, 12696: 1, 12650: 1, 12506: 1, 12358: 1, 12355: 1, 12328: 1, 12325: 1, 12297: 1, 12295: 1, 12278: 1, 12230: 1, 12188: 1, 12152: 1, 12119: 1, 12102: 1, 12038: 1, 12023: 1, 11939: 1, 11878: 1, 11841: 1, 11824: 1, 11601: 1, 11600: 1, 11596: 1, 11574: 1, 11529: 1, 11514: 1, 11472: 1, 11415: 1, 11342: 1, 11328: 1, 11292: 1, 11154: 1, 11146: 1, 11142: 1, 11137: 1, 11011: 1, 10899: 1, 10859: 1, 10834: 1, 10762: 1, 10574: 1, 10529: 1, 10514: 1, 10454: 1, 10328: 1, 10284: 1, 10195: 1, 10193: 1, 10149: 1, 10135: 1, 10100: 1, 10096: 1, 10066: 1, 10032: 1, 10030: 1, 10014: 1, 10010: 1, 9886: 1, 9881: 1, 9790: 1, 9786: 1, 9781: 1, 9660: 1, 9609: 1, 9574: 1, 9528: 1, 9524: 1, 9507: 1, 9485: 1, 9471: 1, 9454: 1, 9452: 1, 9398: 1, 9318: 1, 9249: 1, 9234: 1, 9231: 1, 9230: 1, 9226: 1, 9193: 1, 9191: 1, 9171: 1, 9168: 1, 9122: 1, 9077: 1, 8962: 1, 8951: 1, 8923: 1, 8908: 1, 8888: 1, 8853: 1, 8849: 1, 8824: 1, 8822: 1, 8808: 1, 8746: 1, 8744: 1, 8739: 1, 8737: 1, 8731: 1, 8667: 1, 8595: 1, 8522: 1, 8518: 1, 8502: 1, 8457: 1, 8406: 1, 8368: 1, 8367: 1, 8356: 1, 8294: 1, 8293: 1, 8291: 1, 8267: 1, 8260: 1, 8184: 1, 8170: 1, 8152: 1, 8139: 1, 8137: 1, 8131: 1, 8121: 1, 8104: 1, 8056: 1, 8044: 1, 8021: 1, 8004: 1, 8001: 1, 7985: 1, 7959: 1, 7953: 1, 7934: 1, 7902: 1, 7901: 1, 7840: 1, 7839: 1, 7836: 1, 7829: 1, 7801: 1, 7797: 1, 7780: 1, 7776: 1, 7700: 1, 7698: 1, 7697: 1, 7662: 1, 7631: 1, 7600: 1, 7583: 1, 7566: 1, 7561: 1, 7508: 1, 7505: 1, 7466: 1, 7433: 1, 7399: 1, 7382: 1, 7354: 1, 7348: 1, 7337: 1, 7306: 1, 7304: 1, 7278: 1, 7263: 1, 7247: 1, 7245: 1, 7202: 1, 7186: 1, 7178: 1, 7176: 1, 7115: 1, 7105: 1, 7099: 1, 7093: 1, 7070: 1, 7046: 1, 7021: 1, 7001: 1, 6997: 1, 6992: 1, 6984: 1, 6965: 1, 6961: 1, 6953: 1, 6938: 1, 6929: 1, 6926: 1, 6883: 1, 6873: 1, 6856: 1, 6819: 1, 6792: 1, 6785: 1, 6784: 1, 6767: 1, 6738: 1, 6711: 1, 6701: 1, 6700: 1, 6664: 1, 6637: 1, 6635: 1, 6630: 1, 6624: 1, 6617: 1, 6605: 1, 6553: 1, 6552: 1, 6543: 1, 6542: 1, 6534: 1, 6514: 1, 6498: 1, 6455: 1, 6445: 1, 6435: 1, 6424: 1, 6410: 1, 6365: 1, 6346: 1, 6287: 1, 6281: 1, 6278: 1, 6262: 1, 6260: 1, 6252: 1, 6239: 1, 6238: 1, 6229: 1, 6204: 1, 6203: 1, 6187: 1, 6166: 1, 6164: 1, 6149: 1, 6140: 1, 6096: 1, 6095: 1, 6078: 1, 6025: 1, 6022: 1, 6021: 1, 6011: 1, 6008: 1, 5961: 1, 5959: 1, 5893: 1, 5883: 1, 5869: 1, 5867: 1, 5865: 1, 5863: 1, 5862: 1, 5844: 1, 5839: 1, 5816: 1, 5806: 1, 5781: 1, 5767: 1, 5759: 1, 5758: 1, 5746: 1, 5743: 1, 5724: 1, 5723: 1, 5720: 1, 5703: 1, 5702: 1, 5696: 1, 5670: 1, 5669: 1, 5657: 1, 5648: 1, 5621: 1, 5608: 1, 5599: 1, 5595: 1, 5593: 1, 5579: 1, 5542: 1, 5538: 1, 5537: 1, 5528: 1, 5524: 1, 5519: 1, 5502: 1, 5496: 1, 5494: 1, 5468: 1, 5446: 1, 5443: 1, 5404: 1, 5401: 1, 5396: 1, 5375: 1, 5374: 1, 5361: 1, 5348: 1, 5337: 1, 5334: 1, 5327: 1, 5322: 1, 5312: 1, 5229: 1, 5209: 1, 5186: 1, 5182: 1, 5177: 1, 5176: 1, 5172: 1, 5154: 1, 5119: 1, 5111: 1, 5100: 1, 5093: 1, 5085: 1, 5080: 1, 5074: 1, 5058: 1, 5054: 1, 5048: 1, 5030: 1, 5025: 1, 5024: 1, 5021: 1, 5017: 1, 5008: 1, 5004: 1, 5001: 1, 4981: 1, 4973: 1, 4968: 1, 4967: 1, 4963: 1, 4962: 1, 4959: 1, 4949: 1, 4948: 1, 4945: 1, 4944: 1, 4895: 1, 4888: 1, 4884: 1, 4876: 1, 4860: 1, 4852: 1, 4847: 1, 4846: 1, 4832: 1, 4824: 1, 4821: 1, 4799: 1, 4768: 1, 4756: 1, 4747: 1, 4731: 1, 4729: 1, 4692: 1, 4687: 1, 4684: 1, 4677: 1, 4654: 1, 4651: 1, 4647: 1, 4637: 1, 4633: 1, 4617: 1, 4608: 1, 4606: 1, 4573: 1, 4566: 1, 4564: 1, 4555: 1, 4548: 1, 4547: 1, 4544: 1, 4524: 1, 4520: 1, 4519: 1, 4499: 1, 4496: 1, 4494: 1, 4478: 1, 4475: 1, 4470: 1, 4466: 1, 4453: 1, 4452: 1, 4442: 1, 4435: 1, 4433: 1, 4432: 1, 4421: 1, 4418: 1, 4417: 1, 4411: 1, 4409: 1, 4393: 1, 4388: 1, 4387: 1, 4374: 1, 4366: 1, 4363: 1, 4357: 1, 4352: 1, 4347: 1, 4345: 1, 4342: 1, 4325: 1, 4324: 1, 4317: 1, 4313: 1, 4305: 1, 4304: 1, 4299: 1, 4288: 1, 4282: 1, 4267: 1, 4266: 1, 4265: 1, 4254: 1, 4237: 1, 4231: 1, 4226: 1, 4216: 1, 4215: 1, 4209: 1, 4203: 1, 4192: 1, 4182: 1, 4176: 1, 4167: 1, 4161: 1, 4157: 1, 4155: 1, 4134: 1, 4132: 1, 4130: 1, 4125: 1, 4111: 1, 4107: 1, 4100: 1, 4087: 1, 4083: 1, 4081: 1, 4076: 1, 4072: 1, 4047: 1, 4045: 1, 4040: 1, 4019: 1, 4015: 1, 4013: 1, 4011: 1, 4008: 1, 4004: 1, 3994: 1, 3993: 1, 3984: 1, 3970: 1, 3968: 1, 3961: 1, 3960: 1, 3954: 1, 3944: 1, 3937: 1, 3925: 1, 3924: 1, 3919: 1, 3908: 1, 3901: 1, 3897: 1, 3894: 1, 3889: 1, 3878: 1, 3867: 1, 3864: 1, 3859: 1, 3858: 1, 3852: 1, 3851: 1, 3849: 1, 3843: 1, 3842: 1, 3841: 1, 3838: 1, 3832: 1, 3830: 1, 3828: 1, 3823: 1, 3821: 1, 3820: 1, 3810: 1, 3802: 1, 3798: 1, 3794: 1, 3782: 1, 3775: 1, 3767: 1, 3753: 1, 3736: 1, 3732: 1, 3731: 1, 3729: 1, 3719: 1, 3718: 1, 3712: 1, 3711: 1, 3710: 1, 3704: 1, 3700: 1, 3694: 1, 3693: 1, 3692: 1, 3674: 1, 3672: 1, 3667: 1, 3663: 1, 3661: 1, 3655: 1, 3650: 1, 3649: 1, 3648: 1, 3643: 1, 3639: 1, 3637: 1, 3634: 1, 3620: 1, 3619: 1, 3614: 1, 3602: 1, 3601: 1, 3599: 1, 3588: 1, 3585: 1, 3578: 1, 3577: 1, 3574: 1, 3565: 1, 3556: 1, 3549: 1, 3546: 1, 3541: 1, 3536: 1, 3530: 1, 3528: 1, 3526: 1, 3524: 1, 3523: 1, 3522: 1, 3516: 1, 3512: 1, 3511: 1, 3500: 1, 3497: 1, 3494: 1, 3489: 1, 3468: 1, 3466: 1, 3460: 1, 3455: 1, 3454: 1, 3443: 1, 3428: 1, 3412: 1, 3406: 1, 3399: 1, 3392: 1, 3390: 1, 3388: 1, 3387: 1, 3371: 1, 3365: 1, 3363: 1, 3360: 1, 3356: 1, 3353: 1, 3350: 1, 3345: 1, 3341: 1, 3332: 1, 3331: 1, 3330: 1, 3328: 1, 3327: 1, 3324: 1, 3317: 1, 3301: 1, 3300: 1, 3293: 1, 3289: 1, 3279: 1, 3271: 1, 3270: 1, 3259: 1, 3252: 1, 3250: 1, 3249: 1, 3239: 1, 3237: 1, 3235: 1, 3233: 1, 3225: 1, 3222: 1, 3215: 1, 3213: 1, 3209: 1, 3206: 1, 3204: 1, 3200: 1, 3199: 1, 3197: 1, 3196: 1, 3183: 1, 3178: 1, 3176: 1, 3175: 1, 3153: 1, 3145: 1, 3139: 1, 3137: 1, 3119: 1, 3113: 1, 3112: 1, 3094: 1, 3093: 1, 3091: 1, 3087: 1, 3086: 1, 3085: 1, 3084: 1, 3074: 1, 3072: 1, 3061: 1, 3057: 1, 3056: 1, 3047: 1, 3046: 1, 3045: 1, 3040: 1, 3035: 1, 3034: 1, 3033: 1, 3028: 1, 3021: 1, 3020: 1, 3018: 1, 3014: 1, 3002: 1, 3001: 1, 2999: 1, 2997: 1, 2996: 1, 2995: 1, 2992: 1, 2986: 1, 2984: 1, 2980: 1, 2968: 1, 2967: 1, 2961: 1, 2951: 1, 2950: 1, 2940: 1, 2935: 1, 2931: 1, 2922: 1, 2920: 1, 2916: 1, 2909: 1, 2908: 1, 2905: 1, 2903: 1, 2899: 1, 2894: 1, 2878: 1, 2875: 1, 2872: 1, 2855: 1, 2851: 1, 2850: 1, 2845: 1, 2844: 1, 2834: 1, 2814: 1, 2794: 1, 2793: 1, 2787: 1, 2785: 1, 2782: 1, 2766: 1, 2764: 1, 2762: 1, 2758: 1, 2756: 1, 2753: 1, 2749: 1, 2747: 1, 2745: 1, 2743: 1, 2741: 1, 2735: 1, 2733: 1, 2732: 1, 2729: 1, 2727: 1, 2724: 1, 2721: 1, 2716: 1, 2715: 1, 2714: 1, 2711: 1, 2706: 1, 2699: 1, 2697: 1, 2692: 1, 2682: 1, 2677: 1, 2675: 1, 2673: 1, 2655: 1, 2652: 1, 2649: 1, 2642: 1, 2641: 1, 2636: 1, 2633: 1, 2630: 1, 2629: 1, 2623: 1, 2621: 1, 2620: 1, 2618: 1, 2616: 1, 2592: 1, 2590: 1, 2589: 1, 2585: 1, 2583: 1, 2582: 1, 2580: 1, 2575: 1, 2567: 1, 2564: 1, 2559: 1, 2555: 1, 2553: 1, 2551: 1, 2549: 1, 2547: 1, 2544: 1, 2543: 1, 2534: 1, 2525: 1, 2521: 1, 2515: 1, 2514: 1, 2510: 1, 2492: 1, 2485: 1, 2484: 1, 2479: 1, 2475: 1, 2472: 1, 2466: 1, 2464: 1, 2460: 1, 2457: 1, 2453: 1, 2452: 1, 2451: 1, 2448: 1, 2447: 1, 2446: 1, 2437: 1, 2435: 1, 2431: 1, 2430: 1, 2428: 1, 2424: 1, 2422: 1, 2418: 1, 2414: 1, 2411: 1, 2410: 1, 2408: 1, 2401: 1, 2392: 1, 2391: 1, 2390: 1, 2389: 1, 2385: 1, 2383: 1, 2375: 1, 2373: 1, 2371: 1, 2350: 1, 2349: 1, 2346: 1, 2344: 1, 2340: 1, 2334: 1, 2333: 1, 2332: 1, 2330: 1, 2323: 1, 2320: 1, 2317: 1, 2316: 1, 2309: 1, 2305: 1, 2301: 1, 2300: 1, 2295: 1, 2288: 1, 2286: 1, 2279: 1, 2274: 1, 2273: 1, 2271: 1, 2268: 1, 2261: 1, 2252: 1, 2245: 1, 2244: 1, 2243: 1, 2242: 1, 2238: 1, 2234: 1, 2226: 1, 2220: 1, 2219: 1, 2218: 1, 2213: 1, 2206: 1, 2204: 1, 2203: 1, 2202: 1, 2200: 1, 2198: 1, 2197: 1, 2195: 1, 2192: 1, 2190: 1, 2188: 1, 2187: 1, 2181: 1, 2180: 1, 2176: 1, 2171: 1, 2170: 1, 2169: 1, 2167: 1, 2165: 1, 2161: 1, 2156: 1, 2154: 1, 2151: 1, 2148: 1, 2147: 1, 2145: 1, 2144: 1, 2143: 1, 2142: 1, 2139: 1, 2132: 1, 2129: 1, 2128: 1, 2125: 1, 2113: 1, 2112: 1, 2110: 1, 2107: 1, 2104: 1, 2103: 1, 2102: 1, 2098: 1, 2095: 1, 2093: 1, 2090: 1, 2086: 1, 2083: 1, 2082: 1, 2081: 1, 2079: 1, 2077: 1, 2073: 1, 2063: 1, 2061: 1, 2054: 1, 2053: 1, 2052: 1, 2045: 1, 2042: 1, 2036: 1, 2032: 1, 2030: 1, 2027: 1, 2026: 1, 2024: 1, 2023: 1, 2021: 1, 2020: 1, 2019: 1, 2018: 1, 2015: 1, 2010: 1, 2007: 1, 2006: 1, 2002: 1, 1998: 1, 1995: 1, 1992: 1, 1991: 1, 1990: 1, 1987: 1, 1986: 1, 1981: 1, 1979: 1, 1974: 1, 1971: 1, 1970: 1, 1968: 1, 1966: 1, 1965: 1, 1964: 1, 1957: 1, 1956: 1, 1954: 1, 1947: 1, 1945: 1, 1941: 1, 1937: 1, 1936: 1, 1935: 1, 1930: 1, 1929: 1, 1924: 1, 1922: 1, 1921: 1, 1920: 1, 1919: 1, 1918: 1, 1915: 1, 1911: 1, 1910: 1, 1908: 1, 1905: 1, 1899: 1, 1898: 1, 1895: 1, 1889: 1, 1887: 1, 1885: 1, 1881: 1, 1880: 1, 1879: 1, 1877: 1, 1876: 1, 1875: 1, 1868: 1, 1861: 1, 1860: 1, 1859: 1, 1858: 1, 1857: 1, 1855: 1, 1852: 1, 1847: 1, 1846: 1, 1845: 1, 1844: 1, 1841: 1, 1840: 1, 1839: 1, 1838: 1, 1837: 1, 1832: 1, 1831: 1, 1829: 1, 1823: 1, 1820: 1, 1816: 1, 1814: 1, 1811: 1, 1807: 1, 1803: 1, 1801: 1, 1796: 1, 1795: 1, 1794: 1, 1793: 1, 1789: 1, 1787: 1, 1775: 1, 1774: 1, 1773: 1, 1767: 1, 1759: 1, 1753: 1, 1752: 1, 1751: 1, 1748: 1, 1747: 1, 1745: 1, 1740: 1, 1733: 1, 1728: 1, 1727: 1, 1723: 1, 1722: 1, 1720: 1, 1715: 1, 1711: 1, 1710: 1, 1708: 1, 1707: 1, 1704: 1, 1700: 1, 1697: 1, 1695: 1, 1694: 1, 1693: 1, 1692: 1, 1690: 1, 1689: 1, 1688: 1, 1684: 1, 1683: 1, 1682: 1, 1681: 1, 1679: 1, 1677: 1, 1675: 1, 1672: 1, 1668: 1, 1667: 1, 1660: 1, 1659: 1, 1657: 1, 1650: 1, 1649: 1, 1647: 1, 1644: 1, 1643: 1, 1640: 1, 1638: 1, 1637: 1, 1636: 1, 1634: 1, 1631: 1, 1628: 1, 1627: 1, 1620: 1, 1619: 1, 1612: 1, 1611: 1, 1609: 1, 1608: 1, 1607: 1, 1605: 1, 1604: 1, 1600: 1, 1599: 1, 1597: 1, 1594: 1, 1592: 1, 1591: 1, 1588: 1, 1584: 1, 1582: 1, 1570: 1, 1569: 1, 1564: 1, 1563: 1, 1560: 1, 1556: 1, 1555: 1, 1554: 1, 1545: 1, 1544: 1, 1543: 1, 1537: 1, 1535: 1, 1532: 1, 1529: 1, 1528: 1, 1527: 1, 1524: 1, 1520: 1, 1519: 1, 1517: 1, 1512: 1, 1504: 1, 1502: 1, 1497: 1, 1496: 1, 1494: 1, 1493: 1, 1492: 1, 1490: 1, 1488: 1, 1483: 1, 1480: 1, 1478: 1, 1476: 1, 1474: 1, 1469: 1, 1468: 1, 1466: 1, 1465: 1, 1462: 1, 1461: 1, 1458: 1, 1456: 1, 1455: 1, 1453: 1, 1452: 1, 1451: 1, 1447: 1, 1434: 1, 1430: 1, 1428: 1, 1424: 1, 1423: 1, 1420: 1, 1415: 1, 1412: 1, 1410: 1, 1409: 1, 1408: 1, 1407: 1, 1399: 1, 1398: 1, 1395: 1, 1390: 1, 1388: 1, 1381: 1, 1379: 1, 1376: 1, 1375: 1, 1373: 1, 1372: 1, 1370: 1, 1369: 1, 1365: 1, 1364: 1, 1359: 1, 1356: 1, 1355: 1, 1354: 1, 1352: 1, 1351: 1, 1349: 1, 1347: 1, 1345: 1, 1344: 1, 1343: 1, 1341: 1, 1337: 1, 1336: 1, 1333: 1, 1332: 1, 1324: 1, 1323: 1, 1322: 1, 1320: 1, 1315: 1, 1313: 1, 1312: 1, 1311: 1, 1310: 1, 1309: 1, 1308: 1, 1307: 1, 1306: 1, 1305: 1, 1300: 1, 1299: 1, 1291: 1, 1289: 1, 1273: 1, 1270: 1, 1268: 1, 1266: 1, 1260: 1, 1258: 1, 1257: 1, 1256: 1, 1253: 1, 1252: 1, 1251: 1, 1250: 1, 1247: 1, 1244: 1, 1240: 1, 1239: 1, 1238: 1, 1230: 1, 1225: 1, 1224: 1, 1223: 1, 1222: 1, 1217: 1, 1216: 1, 1215: 1, 1213: 1, 1210: 1, 1207: 1, 1203: 1, 1201: 1, 1196: 1, 1194: 1, 1188: 1, 1182: 1, 1180: 1, 1175: 1, 1172: 1, 1171: 1, 1169: 1, 1168: 1, 1160: 1, 1153: 1, 1147: 1, 1144: 1, 1141: 1, 1140: 1, 1138: 1, 1137: 1, 1133: 1, 1131: 1, 1127: 1, 1126: 1, 1124: 1, 1123: 1, 1116: 1, 1109: 1, 1107: 1, 1106: 1, 1103: 1, 1102: 1, 1095: 1, 1094: 1, 1086: 1, 1085: 1, 1084: 1, 1081: 1, 1078: 1, 1074: 1, 1071: 1, 1067: 1, 1065: 1, 1055: 1, 1054: 1, 1051: 1, 1047: 1, 1043: 1, 1040: 1, 1034: 1, 1033: 1, 1032: 1, 1030: 1, 1028: 1, 1027: 1, 1026: 1, 1025: 1, 1024: 1, 1022: 1, 1016: 1, 1014: 1, 1008: 1, 1003: 1, 1001: 1, 996: 1, 995: 1, 991: 1, 979: 1, 964: 1, 962: 1, 961: 1, 960: 1, 956: 1, 946: 1, 945: 1, 944: 1, 942: 1, 941: 1, 940: 1, 937: 1, 934: 1, 931: 1, 930: 1, 925: 1, 924: 1, 922: 1, 920: 1, 919: 1, 913: 1, 912: 1, 908: 1, 906: 1, 901: 1, 895: 1, 892: 1, 891: 1, 886: 1, 881: 1, 879: 1, 872: 1, 870: 1, 869: 1, 859: 1, 858: 1, 855: 1, 844: 1, 840: 1, 839: 1, 833: 1, 831: 1, 821: 1, 813: 1, 802: 1, 800: 1, 788: 1, 785: 1, 784: 1, 773: 1, 767: 1, 765: 1, 763: 1, 755: 1, 754: 1, 746: 1, 740: 1, 728: 1, 720: 1, 719: 1, 717: 1, 711: 1, 708: 1, 704: 1, 703: 1, 700: 1, 699: 1, 698: 1, 683: 1, 680: 1, 662: 1, 657: 1, 653: 1, 631: 1, 627: 1, 623: 1, 596: 1, 580: 1, 552: 1, 549: 1, 546: 1, 531: 1, 523: 1, 470: 1, 419: 1, 404: 1})\n"
     ]
    }
   ],
   "source": [
    "print(Counter(sorted_text_occur))"
   ]
  },
  {
   "cell_type": "code",
   "execution_count": null,
   "id": "3492789f",
   "metadata": {},
   "outputs": [],
   "source": [
    "# Lets build the model with only text column"
   ]
  },
  {
   "cell_type": "code",
   "execution_count": 435,
   "id": "45f9850e",
   "metadata": {},
   "outputs": [
    {
     "name": "stdout",
     "output_type": "stream",
     "text": [
      "For values of alpha =  1e-05 The log loss is: 1.2826609038221222\n",
      "For values of alpha =  0.0001 The log loss is: 1.19281570383653\n",
      "For values of alpha =  0.001 The log loss is: 1.2100591569745163\n",
      "For values of alpha =  0.01 The log loss is: 1.3309655176730235\n",
      "For values of alpha =  0.1 The log loss is: 1.4664180579796413\n",
      "For values of alpha =  1 The log loss is: 1.6396588510407184\n"
     ]
    }
   ],
   "source": [
    "cv_log_error_array=[]\n",
    "for i in alpha:\n",
    "    clf = SGDClassifier(alpha=i, penalty='l2', loss='log', random_state=42)\n",
    "    clf.fit(train_text_feature_onehotCoding, y_train)\n",
    "    \n",
    "    sig_clf = CalibratedClassifierCV(clf, method=\"sigmoid\")\n",
    "    sig_clf.fit(train_text_feature_onehotCoding, y_train)\n",
    "    predict_y = sig_clf.predict_proba(cv_text_feature_onehotCoding)\n",
    "    cv_log_error_array.append(log_loss(y_cv, predict_y, labels=clf.classes_, eps=1e-15))\n",
    "    print('For values of alpha = ', i, \"The log loss is:\",log_loss(y_cv, predict_y, labels=clf.classes_, eps=1e-15))"
   ]
  },
  {
   "cell_type": "code",
   "execution_count": 436,
   "id": "346e7289",
   "metadata": {},
   "outputs": [
    {
     "data": {
      "text/plain": [
       "[<matplotlib.lines.Line2D at 0x17b482c22b0>]"
      ]
     },
     "execution_count": 436,
     "metadata": {},
     "output_type": "execute_result"
    },
    {
     "data": {
      "image/png": "[encoded data removed]",
      "text/plain": [
       "<Figure size 432x288 with 1 Axes>"
      ]
     },
     "metadata": {},
     "output_type": "display_data"
    }
   ],
   "source": [
    "fig, ax = plt.subplots()\n",
    "ax.plot(alpha, cv_log_error_array,c='g')"
   ]
  },
  {
   "cell_type": "code",
   "execution_count": 437,
   "id": "3fbe7bf4",
   "metadata": {},
   "outputs": [
    {
     "name": "stdout",
     "output_type": "stream",
     "text": [
      "For values of best alpha =  0.0001 The train log loss is: 0.660442733142461\n",
      "For values of best alpha =  0.0001 The cross validation log loss is: 1.19281570383653\n",
      "For values of best alpha =  0.0001 The test log loss is: 1.2073481501140348\n"
     ]
    }
   ],
   "source": [
    "best_alpha = np.argmin(cv_log_error_array)\n",
    "clf = SGDClassifier(alpha=alpha[best_alpha], penalty='l2', loss='log', random_state=42)\n",
    "clf.fit(train_text_feature_onehotCoding, y_train)\n",
    "sig_clf = CalibratedClassifierCV(clf, method=\"sigmoid\")\n",
    "sig_clf.fit(train_text_feature_onehotCoding, y_train)\n",
    "\n",
    "predict_y = sig_clf.predict_proba(train_text_feature_onehotCoding)\n",
    "print('For values of best alpha = ', alpha[best_alpha], \"The train log loss is:\",log_loss(y_train, predict_y, labels=clf.classes_, eps=1e-15))\n",
    "predict_y = sig_clf.predict_proba(cv_text_feature_onehotCoding)\n",
    "print('For values of best alpha = ', alpha[best_alpha], \"The cross validation log loss is:\",log_loss(y_cv, predict_y, labels=clf.classes_, eps=1e-15))\n",
    "predict_y = sig_clf.predict_proba(test_text_feature_onehotCoding)\n",
    "print('For values of best alpha = ', alpha[best_alpha], \"The test log loss is:\",log_loss(y_test, predict_y, labels=clf.classes_, eps=1e-15))"
   ]
  },
  {
   "cell_type": "code",
   "execution_count": null,
   "id": "9c5fbe4d",
   "metadata": {},
   "outputs": [],
   "source": []
  },
  {
   "cell_type": "markdown",
   "id": "553b4ee1",
   "metadata": {},
   "source": [
    "# Data prepration for Machine Learning models"
   ]
  },
  {
   "cell_type": "code",
   "execution_count": 439,
   "id": "7e264dbb",
   "metadata": {},
   "outputs": [],
   "source": [
    "def report_log_loss(train_x, train_y, test_x, test_y,  clf):\n",
    "    clf.fit(train_x, train_y)\n",
    "    sig_clf = CalibratedClassifierCV(clf, method=\"sigmoid\")\n",
    "    sig_clf.fit(train_x, train_y)\n",
    "    sig_clf_probs = sig_clf.predict_proba(test_x)\n",
    "    return log_loss(test_y, sig_clf_probs, eps=1e-15)"
   ]
  },
  {
   "cell_type": "code",
   "execution_count": 440,
   "id": "8aa65a23",
   "metadata": {},
   "outputs": [],
   "source": [
    "# This function plots the confusion matrices given y_i, y_i_hat.\n",
    "def plot_confusion_matrix(test_y, predict_y):\n",
    "    C = confusion_matrix(test_y, predict_y)\n",
    "    \n",
    "    A =(((C.T)/(C.sum(axis=1))).T)\n",
    "    \n",
    "    B =(C/C.sum(axis=0)) \n",
    "    labels = [1,2,3,4,5,6,7,8,9]\n",
    "    # representing A in heatmap format\n",
    "    print(\"-\"*20, \"Confusion matrix\", \"-\"*20)\n",
    "    plt.figure(figsize=(20,7))\n",
    "    sns.heatmap(C, annot=True, cmap=\"YlGnBu\", fmt=\".3f\", xticklabels=labels, yticklabels=labels)\n",
    "    plt.xlabel('Predicted Class')\n",
    "    plt.ylabel('Original Class')\n",
    "    plt.show()\n",
    "\n",
    "    print(\"-\"*20, \"Precision matrix (Columm Sum=1)\", \"-\"*20)\n",
    "    plt.figure(figsize=(20,7))\n",
    "    sns.heatmap(B, annot=True, cmap=\"YlGnBu\", fmt=\".3f\", xticklabels=labels, yticklabels=labels)\n",
    "    plt.xlabel('Predicted Class')\n",
    "    plt.ylabel('Original Class')\n",
    "    plt.show()\n",
    "    \n",
    "    # representing B in heatmap format\n",
    "    print(\"-\"*20, \"Recall matrix (Row sum=1)\", \"-\"*20)\n",
    "    plt.figure(figsize=(20,7))\n",
    "    sns.heatmap(A, annot=True, cmap=\"YlGnBu\", fmt=\".3f\", xticklabels=labels, yticklabels=labels)\n",
    "    plt.xlabel('Predicted Class')\n",
    "    plt.ylabel('Original Class')\n",
    "    plt.show()\n",
    "\n",
    "\n",
    "def predict_and_plot_confusion_matrix(train_x, train_y,test_x, test_y, clf):\n",
    "    clf.fit(train_x, train_y)\n",
    "    sig_clf = CalibratedClassifierCV(clf, method=\"sigmoid\")\n",
    "    sig_clf.fit(train_x, train_y)\n",
    "    pred_y = sig_clf.predict(test_x)\n",
    "\n",
    "    # for calculating log_loss we willl provide the array of probabilities belongs to each class\n",
    "    print(\"Log loss :\",log_loss(test_y, sig_clf.predict_proba(test_x)))\n",
    "    # calculating the number of data points that are misclassified\n",
    "    print(\"Number of mis-classified points :\", np.count_nonzero((pred_y- test_y))/test_y.shape[0])\n",
    "    plot_confusion_matrix(test_y, pred_y)"
   ]
  },
  {
   "cell_type": "code",
   "execution_count": 441,
   "id": "e665c647",
   "metadata": {},
   "outputs": [],
   "source": [
    "# this function will be used just for naive bayes\n",
    "# for the given indices, we will print the name of the features\n",
    "# and we will check whether the feature present in the test point text or not\n",
    "def get_impfeature_names(indices, text, gene, var, no_features):\n",
    "    gene_count_vec = CountVectorizer()\n",
    "    var_count_vec = CountVectorizer()\n",
    "    text_count_vec = CountVectorizer(min_df=3)\n",
    "    \n",
    "    gene_vec = gene_count_vec.fit(train_df['Gene'])\n",
    "    var_vec  = var_count_vec.fit(train_df['Variation'])\n",
    "    text_vec = text_count_vec.fit(train_df['TEXT'])\n",
    "    \n",
    "    fea1_len = len(gene_vec.get_feature_names())\n",
    "    fea2_len = len(var_count_vec.get_feature_names())\n",
    "    \n",
    "    word_present = 0\n",
    "    for i,v in enumerate(indices):\n",
    "        if (v < fea1_len):\n",
    "            word = gene_vec.get_feature_names()[v]\n",
    "            yes_no = True if word == gene else False\n",
    "            if yes_no:\n",
    "                word_present += 1\n",
    "                print(i, \"Gene feature [{}] present in test data point [{}]\".format(word,yes_no))\n",
    "        elif (v < fea1_len+fea2_len):\n",
    "            word = var_vec.get_feature_names()[v-(fea1_len)]\n",
    "            yes_no = True if word == var else False\n",
    "            if yes_no:\n",
    "                word_present += 1\n",
    "                print(i, \"variation feature [{}] present in test data point [{}]\".format(word,yes_no))\n",
    "        else:\n",
    "            word = text_vec.get_feature_names()[v-(fea1_len+fea2_len)]\n",
    "            yes_no = True if word in text.split() else False\n",
    "            if yes_no:\n",
    "                word_present += 1\n",
    "                print(i, \"Text feature [{}] present in test data point [{}]\".format(word,yes_no))\n",
    "\n",
    "    print(\"Out of the top \",no_features,\" features \", word_present, \"are present in query point\")"
   ]
  },
  {
   "cell_type": "markdown",
   "id": "ac93a780",
   "metadata": {},
   "source": [
    "# Combining all 3 features together\n",
    "* THe next part combines the data "
   ]
  },
  {
   "cell_type": "code",
   "execution_count": 444,
   "id": "9aab4993",
   "metadata": {},
   "outputs": [],
   "source": [
    "train_gene_var_onehotCoding = hstack((train_gene_feature_onehotCoding,train_variation_feature_onehotCoding))\n",
    "test_gene_var_onehotCoding = hstack((test_gene_feature_onehotCoding,test_variation_feature_onehotCoding))\n",
    "cv_gene_var_onehotCoding = hstack((cv_gene_feature_onehotCoding,cv_variation_feature_onehotCoding))\n",
    "\n",
    "train_x_onehotCoding = hstack((train_gene_var_onehotCoding, train_text_feature_onehotCoding)).tocsr()\n",
    "train_y = np.array(list(train_df['Class']))\n",
    "\n",
    "test_x_onehotCoding = hstack((test_gene_var_onehotCoding, test_text_feature_onehotCoding)).tocsr()\n",
    "test_y = np.array(list(test_df['Class']))\n",
    "\n",
    "cv_x_onehotCoding = hstack((cv_gene_var_onehotCoding, cv_text_feature_onehotCoding)).tocsr()\n",
    "cv_y = np.array(list(cv_df['Class']))\n",
    "\n",
    "# tocsr() : Saves in sparse matrix format \n",
    "\n",
    "train_gene_var_responseCoding = np.hstack((train_gene_feature_responseCoding,train_variation_feature_responseCoding))\n",
    "test_gene_var_responseCoding = np.hstack((test_gene_feature_responseCoding,test_variation_feature_responseCoding))\n",
    "cv_gene_var_responseCoding = np.hstack((cv_gene_feature_responseCoding,cv_variation_feature_responseCoding))\n",
    "\n",
    "train_x_responseCoding = np.hstack((train_gene_var_responseCoding, train_text_feature_responseCoding))\n",
    "test_x_responseCoding = np.hstack((test_gene_var_responseCoding, test_text_feature_responseCoding))\n",
    "cv_x_responseCoding = np.hstack((cv_gene_var_responseCoding, cv_text_feature_responseCoding))"
   ]
  },
  {
   "cell_type": "code",
   "execution_count": 445,
   "id": "736fa859",
   "metadata": {},
   "outputs": [
    {
     "name": "stdout",
     "output_type": "stream",
     "text": [
      "One hot encoding features :\n",
      "(number of data points * number of features) in train data =  (2124, 55697)\n",
      "(number of data points * number of features) in test data =  (665, 55697)\n",
      "(number of data points * number of features) in cross validation data = (532, 55697)\n"
     ]
    }
   ],
   "source": [
    "print(\"One hot encoding features :\")\n",
    "print(\"(number of data points * number of features) in train data = \", train_x_onehotCoding.shape)\n",
    "print(\"(number of data points * number of features) in test data = \", test_x_onehotCoding.shape)\n",
    "print(\"(number of data points * number of features) in cross validation data =\", cv_x_onehotCoding.shape)"
   ]
  },
  {
   "cell_type": "code",
   "execution_count": 446,
   "id": "5533ecf7",
   "metadata": {},
   "outputs": [
    {
     "name": "stdout",
     "output_type": "stream",
     "text": [
      " Response encoding features :\n",
      "(number of data points * number of features) in train data =  (2124, 27)\n",
      "(number of data points * number of features) in test data =  (665, 27)\n",
      "(number of data points * number of features) in cross validation data = (532, 27)\n"
     ]
    }
   ],
   "source": [
    "print(\" Response encoding features :\")\n",
    "print(\"(number of data points * number of features) in train data = \", train_x_responseCoding.shape)\n",
    "print(\"(number of data points * number of features) in test data = \", test_x_responseCoding.shape)\n",
    "print(\"(number of data points * number of features) in cross validation data =\", cv_x_responseCoding.shape)"
   ]
  },
  {
   "cell_type": "code",
   "execution_count": null,
   "id": "4a0f8c7e",
   "metadata": {},
   "outputs": [],
   "source": []
  },
  {
   "cell_type": "markdown",
   "id": "b0a58f5a",
   "metadata": {},
   "source": [
    "# Building Machine Learning model"
   ]
  },
  {
   "cell_type": "markdown",
   "id": "0e7ef030",
   "metadata": {},
   "source": [
    "# Naive Bayes"
   ]
  },
  {
   "cell_type": "code",
   "execution_count": 451,
   "id": "6e7e5dde",
   "metadata": {},
   "outputs": [
    {
     "name": "stdout",
     "output_type": "stream",
     "text": [
      "for alpha = 1e-05\n",
      "Log Loss : 1.3154908204890614\n",
      "for alpha = 0.0001\n",
      "Log Loss : 1.3199217107943397\n",
      "for alpha = 0.001\n",
      "Log Loss : 1.3142090929661403\n",
      "for alpha = 0.1\n",
      "Log Loss : 1.3016827930531316\n",
      "for alpha = 1\n",
      "Log Loss : 1.3119557571811955\n",
      "for alpha = 10\n",
      "Log Loss : 1.4270109840595655\n",
      "for alpha = 100\n",
      "Log Loss : 1.4295583584866252\n",
      "for alpha = 1000\n",
      "Log Loss : 1.3758718318191048\n"
     ]
    }
   ],
   "source": [
    "alpha = [0.00001, 0.0001, 0.001, 0.1, 1, 10, 100,1000]\n",
    "cv_log_error_array = []\n",
    "for i in alpha:\n",
    "    print(\"for alpha =\", i)\n",
    "    clf = MultinomialNB(alpha=i)\n",
    "    clf.fit(train_x_onehotCoding, train_y)\n",
    "    sig_clf = CalibratedClassifierCV(clf, method=\"sigmoid\")\n",
    "    sig_clf.fit(train_x_onehotCoding, train_y)\n",
    "    sig_clf_probs = sig_clf.predict_proba(cv_x_onehotCoding)\n",
    "    cv_log_error_array.append(log_loss(cv_y, sig_clf_probs, labels=clf.classes_, eps=1e-15))\n",
    "    # to avoid rounding error while multiplying probabilites we use log-probability estimates\n",
    "    print(\"Log Loss :\",log_loss(cv_y, sig_clf_probs)) "
   ]
  },
  {
   "cell_type": "code",
   "execution_count": 452,
   "id": "aee9ecda",
   "metadata": {},
   "outputs": [
    {
     "data": {
      "text/plain": [
       "[<matplotlib.lines.Line2D at 0x17b4803d340>]"
      ]
     },
     "execution_count": 452,
     "metadata": {},
     "output_type": "execute_result"
    },
    {
     "data": {
      "image/png": "[encoded data removed]",
      "text/plain": [
       "<Figure size 432x288 with 1 Axes>"
      ]
     },
     "metadata": {},
     "output_type": "display_data"
    }
   ],
   "source": [
    "fig, ax = plt.subplots()\n",
    "ax.plot(np.log10(alpha), cv_log_error_array,c='g')"
   ]
  },
  {
   "cell_type": "code",
   "execution_count": 453,
   "id": "5971a1f9",
   "metadata": {},
   "outputs": [
    {
     "name": "stdout",
     "output_type": "stream",
     "text": [
      "For values of best alpha =  0.1 The train log loss is: 0.8644079427482055\n",
      "For values of best alpha =  0.1 The cross validation log loss is: 1.3016827930531316\n",
      "For values of best alpha =  0.1 The test log loss is: 1.2653034319926084\n"
     ]
    }
   ],
   "source": [
    "best_alpha = np.argmin(cv_log_error_array)\n",
    "clf = MultinomialNB(alpha=alpha[best_alpha])\n",
    "clf.fit(train_x_onehotCoding, train_y)\n",
    "sig_clf = CalibratedClassifierCV(clf, method=\"sigmoid\")\n",
    "sig_clf.fit(train_x_onehotCoding, train_y)\n",
    "\n",
    "\n",
    "predict_y = sig_clf.predict_proba(train_x_onehotCoding)\n",
    "print('For values of best alpha = ', alpha[best_alpha], \"The train log loss is:\",log_loss(y_train, predict_y, labels=clf.classes_, eps=1e-15))\n",
    "predict_y = sig_clf.predict_proba(cv_x_onehotCoding)\n",
    "print('For values of best alpha = ', alpha[best_alpha], \"The cross validation log loss is:\",log_loss(y_cv, predict_y, labels=clf.classes_, eps=1e-15))\n",
    "predict_y = sig_clf.predict_proba(test_x_onehotCoding)\n",
    "print('For values of best alpha = ', alpha[best_alpha], \"The test log loss is:\",log_loss(y_test, predict_y, labels=clf.classes_, eps=1e-15))"
   ]
  },
  {
   "cell_type": "code",
   "execution_count": 454,
   "id": "45762ac9",
   "metadata": {},
   "outputs": [
    {
     "name": "stdout",
     "output_type": "stream",
     "text": [
      "Log Loss : 1.3016827930531316\n",
      "Number of missclassified point : 0.40789473684210525\n"
     ]
    },
    {
     "name": "stderr",
     "output_type": "stream",
     "text": [
      "<ipython-input-440-e931cb640130>:7: RuntimeWarning: invalid value encountered in true_divide\n",
      "  B =(C/C.sum(axis=0))\n"
     ]
    },
    {
     "name": "stdout",
     "output_type": "stream",
     "text": [
      "-------------------- Confusion matrix --------------------\n"
     ]
    },
    {
     "data": {
      "image/png": "[encoded data removed]",
      "text/plain": [
       "<Figure size 1440x504 with 2 Axes>"
      ]
     },
     "metadata": {},
     "output_type": "display_data"
    },
    {
     "name": "stdout",
     "output_type": "stream",
     "text": [
      "-------------------- Precision matrix (Columm Sum=1) --------------------\n"
     ]
    },
    {
     "data": {
      "image/png": "[encoded data removed]",
      "text/plain": [
       "<Figure size 1440x504 with 2 Axes>"
      ]
     },
     "metadata": {},
     "output_type": "display_data"
    },
    {
     "name": "stdout",
     "output_type": "stream",
     "text": [
      "-------------------- Recall matrix (Row sum=1) --------------------\n"
     ]
    },
    {
     "data": {
      "image/png": "[encoded data removed]",
      "text/plain": [
       "<Figure size 1440x504 with 2 Axes>"
      ]
     },
     "metadata": {},
     "output_type": "display_data"
    }
   ],
   "source": [
    "clf = MultinomialNB(alpha=alpha[best_alpha])\n",
    "clf.fit(train_x_onehotCoding, train_y)\n",
    "sig_clf = CalibratedClassifierCV(clf, method=\"sigmoid\")\n",
    "sig_clf.fit(train_x_onehotCoding, train_y)\n",
    "sig_clf_probs = sig_clf.predict_proba(cv_x_onehotCoding)\n",
    "# to avoid rounding error while multiplying probabilites we use log-probability estimates\n",
    "print(\"Log Loss :\",log_loss(cv_y, sig_clf_probs))\n",
    "print(\"Number of missclassified point :\", np.count_nonzero((sig_clf.predict(cv_x_onehotCoding)- cv_y))/cv_y.shape[0])\n",
    "plot_confusion_matrix(cv_y, sig_clf.predict(cv_x_onehotCoding.toarray()))"
   ]
  },
  {
   "cell_type": "markdown",
   "id": "afeb1f1d",
   "metadata": {},
   "source": [
    "### caliberated classifier is good for log loss and probabilistic model "
   ]
  },
  {
   "cell_type": "code",
   "execution_count": null,
   "id": "25c30461",
   "metadata": {},
   "outputs": [],
   "source": []
  },
  {
   "cell_type": "code",
   "execution_count": null,
   "id": "4366c8f2",
   "metadata": {},
   "outputs": [],
   "source": []
  },
  {
   "cell_type": "code",
   "execution_count": null,
   "id": "fbd71ee3",
   "metadata": {},
   "outputs": [],
   "source": []
  }
 ],
 "metadata": {
  "kernelspec": {
   "display_name": "Python 3 (Spyder)",
   "language": "python3",
   "name": "python3"
  },
  "language_info": {
   "codemirror_mode": {
    "name": "ipython",
    "version": 3
   },
   "file_extension": ".py",
   "mimetype": "text/x-python",
   "name": "python",
   "nbconvert_exporter": "python",
   "pygments_lexer": "ipython3",
   "version": "3.8.8"
  }
 },
 "nbformat": 4,
 "nbformat_minor": 5
}
